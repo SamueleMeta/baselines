{
 "cells": [
  {
   "cell_type": "markdown",
   "metadata": {},
   "source": [
    "# Reward-based POIS analysis\n",
    "In this notebook we are going to show the results of the reward-based importance weighting for the POIS algorithm. As in PDIS notebook, we start by loading all our runs and by defining a base run filter."
   ]
  },
  {
   "cell_type": "code",
   "execution_count": 13,
   "metadata": {},
   "outputs": [],
   "source": [
    "import pandas as pd\n",
    "import numpy as np\n",
    "import glob, sys, json, re\n",
    "import matplotlib.pyplot as plt\n",
    "import scipy.stats as sts\n",
    "from sacred_notebook_utils import load_runs, filter_runs, plot_mean_ci, plot_all"
   ]
  },
  {
   "cell_type": "code",
   "execution_count": 14,
   "metadata": {},
   "outputs": [
    {
     "name": "stdout",
     "output_type": "stream",
     "text": [
      "Loaded runs: 334\n"
     ]
    }
   ],
   "source": [
    "runs = load_runs('../sacred_runs/')\n",
    "print(\"Loaded runs:\", len(runs.keys()))"
   ]
  },
  {
   "cell_type": "code",
   "execution_count": 17,
   "metadata": {},
   "outputs": [],
   "source": [
    "base_query = {\n",
    "    'run.status': 'COMPLETED',\n",
    "    'config.center': False,\n",
    "    'config.gamma': 0.99,\n",
    "    'config.clipping': False,\n",
    "    'config.njobs': 1,\n",
    "    'config.natural': False,\n",
    "    'config.policy': 'linear',\n",
    "    'config.iw_norm': 'none'\n",
    "}"
   ]
  },
  {
   "cell_type": "markdown",
   "metadata": {},
   "source": [
    "## CartPole as a test\n",
    "Now we are going to see if the reward-based POIS has a comparative performance w.r.t. vanilla POIS, given also that in the CartPole environment the rewards are very broadly distributed, since the reward is simply the length of the episode times 10. It ranges from 0 to 5000. This means that, without any reward clustering, the reward-based estimator should work the same as the vanilla estimator."
   ]
  },
  {
   "cell_type": "code",
   "execution_count": 18,
   "metadata": {},
   "outputs": [
    {
     "name": "stdout",
     "output_type": "stream",
     "text": [
      "----------------------------------------\n",
      "Method: is  - Entropy: none\n",
      "Experiments: 0\n",
      "Seeds: \n",
      "----------------------------------------\n",
      "Method: rbis  - Entropy: none\n",
      "Experiments: 0\n",
      "Seeds: \n"
     ]
    },
    {
     "name": "stderr",
     "output_type": "stream",
     "text": [
      "/Users/nicom/anaconda/lib/python3.6/site-packages/matplotlib/axes/_axes.py:545: UserWarning: No labelled objects found. Use label='...' kwarg on individual plots.\n",
      "  warnings.warn(\"No labelled objects found. \"\n"
     ]
    },
    {
     "data": {
      "image/png": "[encoded data removed]",
      "text/plain": [
       "<matplotlib.figure.Figure at 0x1339e3c18>"
      ]
     },
     "metadata": {},
     "output_type": "display_data"
    }
   ],
   "source": [
    "fig, axis = plt.subplots(nrows=2, ncols=1, figsize=(16,8), sharex=True, sharey=True)\n",
    "for i, (method, bound, entropy) in enumerate([('is', 'max-d2', 'none'),\n",
    "                                              ('rbis', 'max-d2', 'none')]):\n",
    "    query = {\n",
    "        'config.entropy': entropy,\n",
    "        'config.env': 'cartpole',\n",
    "        'config.iw_method': method,\n",
    "        'config.delta': 0.4,\n",
    "        'config.bound': bound,\n",
    "        'config.num_episodes': 100\n",
    "    }\n",
    "    filtered_runs = filter_runs({**base_query, **query}, runs)\n",
    "    print('----------------------------------------')\n",
    "    print(\"Method:\", method, \" - Entropy:\", entropy)\n",
    "    print(\"Experiments:\", len(filtered_runs.keys()))\n",
    "    print(\"Seeds:\", \", \".join(map(str, [filtered_runs[key]['config']['seed'] for key in filtered_runs.keys()])))\n",
    "    plot_all(filtered_runs, 'EpRewMean', axis[i])\n",
    "    axis[i].set_title(\"Method: \" + method + \" - Entropy: \" + entropy)\n",
    "plt.show();"
   ]
  },
  {
   "cell_type": "code",
   "execution_count": null,
   "metadata": {},
   "outputs": [],
   "source": []
  }
 ],
 "metadata": {
  "kernelspec": {
   "display_name": "Python 3",
   "language": "python",
   "name": "python3"
  },
  "language_info": {
   "codemirror_mode": {
    "name": "ipython",
    "version": 3
   },
   "file_extension": ".py",
   "mimetype": "text/x-python",
   "name": "python",
   "nbconvert_exporter": "python",
   "pygments_lexer": "ipython3",
   "version": "3.6.0"
  }
 },
 "nbformat": 4,
 "nbformat_minor": 2
}
