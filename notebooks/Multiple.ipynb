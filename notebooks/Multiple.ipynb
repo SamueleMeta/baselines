{
 "cells": [
  {
   "cell_type": "code",
   "execution_count": 1,
   "metadata": {},
   "outputs": [],
   "source": [
    "import sys\n",
    "sys.path = ['..'] + sys.path\n",
    "import pandas as pd\n",
    "import numpy as np\n",
    "import glob, sys, json, re\n",
    "import matplotlib.pyplot as plt\n",
    "import scipy.stats as sts\n",
    "from sacred_notebook_utils import plot_mean_ci, plot_all\n",
    "from baselines.common.sacred_utils import load_runs, filter_runs"
   ]
  },
  {
   "cell_type": "code",
   "execution_count": 2,
   "metadata": {},
   "outputs": [
    {
     "name": "stdout",
     "output_type": "stream",
     "text": [
      "Loaded runs: 572\n",
      "Loaded final runs: 704\n",
      "Loaded mis runs: 85\n"
     ]
    }
   ],
   "source": [
    "runs = load_runs('../../../sacred_data/sacred_runs_master/')\n",
    "print(\"Loaded runs:\", len(runs.keys()))\n",
    "final_runs = load_runs('../../../sacred_data/sacred_runs_final/')\n",
    "print(\"Loaded final runs:\", len(final_runs.keys()))\n",
    "mis_runs = load_runs('../../../sacred_data/sacred_runs_mis/')\n",
    "print(\"Loaded mis runs:\", len(mis_runs.keys()))"
   ]
  },
  {
   "cell_type": "code",
   "execution_count": null,
   "metadata": {},
   "outputs": [],
   "source": [
    "mis_runs_local = load_runs('../sacred_mis/')\n",
    "print(\"Loaded mis runs:\", len(mis_runs_local.keys()))\n",
    "pdisnn_runs_local = load_runs('../sacred_pdisnn/')\n",
    "print(\"Loaded pdisnn runs:\", len(pdisnn_runs_local.keys()))"
   ]
  },
  {
   "cell_type": "code",
   "execution_count": null,
   "metadata": {},
   "outputs": [],
   "source": [
    "# Merge the runs\n",
    "total_runs = {}\n",
    "for key, value in mis_runs.items():\n",
    "    total_runs[str(key) + '-mis'] = value\n",
    "for key, value in mis_runs_local.items():\n",
    "    total_runs[str(key) + '-mis-local'] = value\n",
    "for key, value in final_runs.items():\n",
    "    total_runs[str(key) + '-final'] = value\n",
    "for key, value in pdisnn_runs_local.items():\n",
    "    total_runs[str(key) + '-pdislocal'] = value"
   ]
  },
  {
   "cell_type": "code",
   "execution_count": null,
   "metadata": {},
   "outputs": [],
   "source": [
    "base_query = {\n",
    "    #'run.status': 'COMPLETED',\n",
    "    'config.center': False,\n",
    "    'config.gamma': 1.0,\n",
    "    'config.clipping': False,\n",
    "    'config.natural': False,\n",
    "    'config.policy': 'linear',\n",
    "    'config.iw_norm': 'none'\n",
    "}"
   ]
  },
  {
   "cell_type": "markdown",
   "metadata": {},
   "source": [
    "## Cartpole - Increasing capacity"
   ]
  },
  {
   "cell_type": "code",
   "execution_count": null,
   "metadata": {
    "scrolled": false
   },
   "outputs": [],
   "source": [
    "fig, axis = plt.subplots(nrows=1, ncols=1, figsize=(16,4))\n",
    "for j, (njobs, warm_start, bound, capacity, i) in enumerate([(1, None, 'max-d2', None, 'zeros'),\n",
    "                                                        (10, True, 'max-d2-harmonic', 1, 'zeros'),\n",
    "                                                        (10, True, 'max-d2-harmonic', 2, 'zeros'),\n",
    "                                                       ]):\n",
    "    \n",
    "    query = {\n",
    "            'config.env': 'rllab.cartpole',\n",
    "            'config.iw_method': 'is',\n",
    "            'config.delta': 0.4,\n",
    "            'config.bound': bound,\n",
    "            'config.num_episodes': 100,\n",
    "            'config.policy_init': 'zeros',\n",
    "            'config.max_offline_iters': 10,\n",
    "            'config.njobs': njobs,\n",
    "            'config.warm_start': warm_start,\n",
    "            'config.capacity': capacity\n",
    "        }\n",
    "    # Seeds: 8, 15, 42, 100, 153, 178, 236, 245, 247, 307, 315, 481, 545, 662, 689, 712, 746, 947, 950, 963\n",
    "    SEED = 178\n",
    "    if j == 0:\n",
    "        pass\n",
    "        #query['config.seed'] = SEED\n",
    "    if j == 1:\n",
    "        query['config.experiment_name'] = 'pomis2_cartpole_tenjob'\n",
    "        #query['config.seed'] = SEED\n",
    "    if j == 2:\n",
    "        query['config.experiment_name'] = 'pomis2_cartpole_final'\n",
    "        #query['config.seed'] = SEED\n",
    "        \n",
    "    filtered_runs = filter_runs({**base_query, **query}, total_runs)\n",
    "    if j == 1:\n",
    "        filtered_runs = {key: value for key, value in filtered_runs.items() if value['config']['seed'] < 1000}\n",
    "    print(\"Seeds:\", \", \".join(map(str, sorted([filtered_runs[key]['config']['seed'] for key in filtered_runs.keys()]))))\n",
    "    print(len([filtered_runs[key]['config']['seed'] for key in filtered_runs.keys()]))\n",
    "    if j == 14:\n",
    "        plot_all(filtered_runs, 'EpRewMean', axis)\n",
    "        print(list(filtered_runs.items())[0][1]['config'])\n",
    "    elif len(filtered_runs.keys()) > 0:\n",
    "        plot_mean_ci(filtered_runs, 'EpRewMean', axis, label=bound+':'+str(njobs), alpha=0.1)\n",
    "plt.legend()\n",
    "plt.grid(True)\n",
    "plt.show();\n",
    "print(\"Seeds:\", \", \".join(map(str, [filtered_runs[key]['config']['seed'] for key in filtered_runs.keys()])))"
   ]
  },
  {
   "cell_type": "markdown",
   "metadata": {},
   "source": [
    "### Cartpole\n",
    "First we start by validating the equivalence with just one policy"
   ]
  },
  {
   "cell_type": "code",
   "execution_count": null,
   "metadata": {},
   "outputs": [],
   "source": [
    "N = 2\n",
    "fig, axis = plt.subplots(nrows=2, ncols=1, figsize=(16,N*3), sharex=True, sharey=True)\n",
    "for i, (method, bound, delta, ws) in enumerate([('is', 'max-d2', 0.4, None), \n",
    "                                              ('is', 'max-d2-harmonic', 0.4, True),\n",
    "                                            ]):\n",
    "    query = {\n",
    "        'config.env': 'rllab.cartpole',\n",
    "        'config.iw_method': method,\n",
    "        'config.delta': delta,\n",
    "        'config.bound': bound,\n",
    "        'config.num_episodes': 100,\n",
    "        'config.capacity': 1,\n",
    "        'config.seed': 662,\n",
    "        'config.warm_start': ws\n",
    "    }\n",
    "    filtered_runs = filter_runs({**base_query, **query}, total_runs)\n",
    "    print('----------------------------------------')\n",
    "    print(\"Method:\", method, \" - Delta:\", str(delta))\n",
    "    print(\"Experiments:\", len(filtered_runs.keys()))\n",
    "    print(\"Seeds:\", \", \".join(map(str, [filtered_runs[key]['config']['seed'] for key in filtered_runs.keys()])))\n",
    "    plot_all(filtered_runs, 'EpRewMean', axis[i])\n",
    "    axis[i].set_title(\"Method: \" + method + \" - Delta: \" + str(delta))\n",
    "plt.show();"
   ]
  },
  {
   "cell_type": "code",
   "execution_count": null,
   "metadata": {},
   "outputs": [],
   "source": [
    "fig, axis = plt.subplots(nrows=5, ncols=1, figsize=(16,16), sharex=True, sharey=True)\n",
    "for i, (method, bound, delta) in enumerate([('is', 'max-d2-harmonic', 0.1), \n",
    "                                              ('is', 'max-d2-harmonic', 0.2),\n",
    "                                              ('is', 'max-d2-harmonic', 0.3),\n",
    "                                              ('is', 'max-d2-harmonic', 0.4),\n",
    "                                              ('is', 'max-d2-harmonic', 0.5),\n",
    "                                            ]):\n",
    "    query = {\n",
    "        'config.env': 'rllab.cartpole',\n",
    "        'config.iw_method': method,\n",
    "        'config.delta': delta,\n",
    "        'config.bound': bound,\n",
    "        'config.num_episodes': 100,\n",
    "        'config.capacity': 10\n",
    "    }\n",
    "    filtered_runs = filter_runs({**base_query, **query}, total_runs)\n",
    "    print('----------------------------------------')\n",
    "    print(\"Method:\", method, \" - Delta:\", str(delta))\n",
    "    print(\"Experiments:\", len(filtered_runs.keys()))\n",
    "    print(\"Seeds:\", \", \".join(map(str, [filtered_runs[key]['config']['seed'] for key in filtered_runs.keys()])))\n",
    "    plot_all(filtered_runs, 'EpRewMean', axis[i])\n",
    "    axis[i].set_title(\"Method: \" + method + \" - Delta: \" + str(delta))\n",
    "plt.show();"
   ]
  },
  {
   "cell_type": "code",
   "execution_count": null,
   "metadata": {
    "scrolled": false
   },
   "outputs": [],
   "source": [
    "fig, axis = plt.subplots(nrows=6, ncols=1, figsize=(16,16), sharex=True, sharey=True)\n",
    "for i, (method, bound, delta) in enumerate([('is', 'max-d2-harmonic', 0.1), \n",
    "                                              ('is', 'max-d2-harmonic', 0.3),\n",
    "                                              ('is', 'max-d2-harmonic', 0.4),\n",
    "                                              ('is', 'max-d2-harmonic', 0.5),\n",
    "                                              ('is', 'max-d2-harmonic', 0.7),\n",
    "                                              ('is', 'max-d2-harmonic', 0.9),\n",
    "                                            ]):\n",
    "    query = {\n",
    "        'config.env': 'rllab.cartpole',\n",
    "        'config.iw_method': method,\n",
    "        'config.delta': delta,\n",
    "        'config.bound': bound,\n",
    "        'config.num_episodes': 20,\n",
    "        'config.capacity': 5\n",
    "    }\n",
    "    filtered_runs = filter_runs({**base_query, **query}, total_runs)\n",
    "    print('----------------------------------------')\n",
    "    print(\"Method:\", method, \" - Delta:\", str(delta))\n",
    "    print(\"Experiments:\", len(filtered_runs.keys()))\n",
    "    print(\"Seeds:\", \", \".join(map(str, [filtered_runs[key]['config']['seed'] for key in filtered_runs.keys()])))\n",
    "    plot_all(filtered_runs, 'EpRewMean', axis[i], legend=False)\n",
    "    axis[i].set_title(\"Method: \" + method + \" - Delta: \" + str(delta))\n",
    "plt.show();"
   ]
  },
  {
   "cell_type": "code",
   "execution_count": null,
   "metadata": {},
   "outputs": [],
   "source": [
    "fig, axis = plt.subplots(nrows=1, ncols=1, figsize=(16,4))\n",
    "for (capacity, episodes, bound, moi, i) in [(None, 100, 'max-d2', 10, 'zeros'),\n",
    "                                         #(1, 20, 'max-d2', 10),\n",
    "                                         (10, 100, 'max-d2-harmonic', 10, 'zeros'),\n",
    "                                         (10, 100, 'max-d2-harmonic', 10, 'xavier')]:\n",
    "    \n",
    "    query = {\n",
    "            'config.env': 'rllab.cartpole',\n",
    "            'config.iw_method': 'is',\n",
    "            'config.delta': 0.4,\n",
    "            'config.bound': bound,\n",
    "            'config.num_episodes': episodes,\n",
    "            'config.policy_init': i,\n",
    "            'config.capacity': capacity,\n",
    "            'config.max_offline_iters': moi,\n",
    "        }\n",
    "    filtered_runs = filter_runs({**base_query, **query}, total_runs)\n",
    "    print(len(filtered_runs.keys()))\n",
    "    if len(filtered_runs.keys()) > 0:\n",
    "        plot_mean_ci(filtered_runs, 'EpRewMean', axis, label=bound+':'+str(i))\n",
    "plt.legend()\n",
    "plt.show();\n",
    "print(\"Seeds:\", \", \".join(map(str, [filtered_runs[key]['config']['seed'] for key in filtered_runs.keys()])))"
   ]
  },
  {
   "cell_type": "markdown",
   "metadata": {},
   "source": [
    "## Inverted double pendulum"
   ]
  },
  {
   "cell_type": "code",
   "execution_count": null,
   "metadata": {
    "scrolled": false
   },
   "outputs": [],
   "source": [
    "fig, axis = plt.subplots(nrows=9, ncols=1, figsize=(16,24), sharex=True, sharey=True)\n",
    "for i, (method, bound, delta) in enumerate([('is', 'max-d2-harmonic', 0.1), \n",
    "                                              ('is', 'max-d2-harmonic', 0.2),\n",
    "                                              ('is', 'max-d2-harmonic', 0.3),\n",
    "                                              ('is', 'max-d2-harmonic', 0.4),\n",
    "                                              ('is', 'max-d2-harmonic', 0.5),\n",
    "                                              ('is', 'max-d2-harmonic', 0.6),\n",
    "                                              ('is', 'max-d2-harmonic', 0.7),\n",
    "                                              ('is', 'max-d2-harmonic', 0.8),\n",
    "                                              ('is', 'max-d2-harmonic', 0.9),\n",
    "                                            ]):\n",
    "    query = {\n",
    "        'config.env': 'rllab.inverted-double-pendulum',\n",
    "        'config.iw_method': method,\n",
    "        'config.delta': delta,\n",
    "        'config.bound': bound,\n",
    "        'config.num_episodes': 100,\n",
    "        'config.capacity': 10\n",
    "    }\n",
    "    filtered_runs = filter_runs({**base_query, **query}, total_runs)\n",
    "    print('----------------------------------------')\n",
    "    print(\"Method:\", method, \" - Delta:\", str(delta))\n",
    "    print(\"Experiments:\", len(filtered_runs.keys()))\n",
    "    print(\"Seeds:\", \", \".join(map(str, [filtered_runs[key]['config']['seed'] for key in filtered_runs.keys()])))\n",
    "    plot_all(filtered_runs, 'EpRewMean', axis[i])\n",
    "    axis[i].set_title(\"Method: \" + method + \" - Delta: \" + str(delta))\n",
    "plt.show();"
   ]
  },
  {
   "cell_type": "code",
   "execution_count": null,
   "metadata": {
    "scrolled": true
   },
   "outputs": [],
   "source": [
    "fig, axis = plt.subplots(nrows=5, ncols=1, figsize=(16,16), sharex=True, sharey=True)\n",
    "for i, (method, bound, delta) in enumerate([('is', 'max-d2-harmonic', 0.1), \n",
    "                                              ('is', 'max-d2-harmonic', 0.3),\n",
    "                                              ('is', 'max-d2-harmonic', 0.5),\n",
    "                                              ('is', 'max-d2-harmonic', 0.7),\n",
    "                                              ('is', 'max-d2-harmonic', 0.9),\n",
    "                                            ]):\n",
    "    query = {\n",
    "        'config.env': 'rllab.inverted-double-pendulum',\n",
    "        'config.iw_method': method,\n",
    "        'config.delta': delta,\n",
    "        'config.bound': bound,\n",
    "        'config.num_episodes': 20,\n",
    "        'config.capacity': 5\n",
    "    }\n",
    "    filtered_runs = filter_runs({**base_query, **query}, total_runs)\n",
    "    print('----------------------------------------')\n",
    "    print(\"Method:\", method, \" - Delta:\", str(delta))\n",
    "    print(\"Experiments:\", len(filtered_runs.keys()))\n",
    "    print(\"Seeds:\", \", \".join(map(str, [filtered_runs[key]['config']['seed'] for key in filtered_runs.keys()])))\n",
    "    plot_all(filtered_runs, 'EpRewMean', axis[i])\n",
    "    axis[i].set_title(\"Method: \" + method + \" - Delta: \" + str(delta))\n",
    "plt.show();"
   ]
  },
  {
   "cell_type": "code",
   "execution_count": null,
   "metadata": {},
   "outputs": [],
   "source": [
    "fig, axis = plt.subplots(nrows=1, ncols=1, figsize=(6,4))\n",
    "for (capacity, episodes, bound, delta) in [(None, 100, 'max-d2', 0.1),\n",
    "                                    (10, 100, 'max-d2-harmonic', 0.3),\n",
    "                                    #(5, 20, 'max-d2-harmonic', 0.7)\n",
    "                                          ]:\n",
    "    \n",
    "    query = {\n",
    "            'config.env': 'rllab.inverted-double-pendulum',\n",
    "            'config.iw_method': 'is',\n",
    "            'config.delta': delta,\n",
    "            'config.bound': bound,\n",
    "            'config.num_episodes': episodes,\n",
    "            'config.policy_init': 'zeros',\n",
    "            'config.capacity': capacity,\n",
    "        }\n",
    "    filtered_runs = filter_runs({**base_query, **query}, total_runs)\n",
    "    if len(filtered_runs.keys()) > 0:\n",
    "        plot_mean_ci(filtered_runs, 'EpRewMean', axis)\n",
    "\n",
    "plt.show();\n",
    "print(\"Seeds:\", \", \".join(map(str, [filtered_runs[key]['config']['seed'] for key in filtered_runs.keys()])))"
   ]
  },
  {
   "cell_type": "markdown",
   "metadata": {},
   "source": [
    "## Inverted pendulum"
   ]
  },
  {
   "cell_type": "code",
   "execution_count": null,
   "metadata": {},
   "outputs": [],
   "source": [
    "fig, axis = plt.subplots(nrows=5, ncols=1, figsize=(16,16), sharex=True, sharey=True)\n",
    "for i, (method, bound, delta) in enumerate([('is', 'max-d2-harmonic', 0.3), \n",
    "                                              ('is', 'max-d2-harmonic', 0.6),\n",
    "                                              ('is', 'max-d2-harmonic', 0.9),\n",
    "                                              ('is', 'max-d2-harmonic', 0.99),\n",
    "                                              ('is', 'max-d2-harmonic', 0.9999),\n",
    "                                            ]):\n",
    "    query = {\n",
    "        'config.env': 'rllab.inverted-pendulum',\n",
    "        'config.iw_method': method,\n",
    "        'config.delta': delta,\n",
    "        'config.bound': bound,\n",
    "        'config.num_episodes': 100,\n",
    "        'config.capacity': 10\n",
    "    }\n",
    "    filtered_runs = filter_runs({**base_query, **query}, mis_runs)\n",
    "    print('----------------------------------------')\n",
    "    print(\"Method:\", method, \" - Delta:\", str(delta))\n",
    "    print(\"Experiments:\", len(filtered_runs.keys()))\n",
    "    print(\"Seeds:\", \", \".join(map(str, [filtered_runs[key]['config']['seed'] for key in filtered_runs.keys()])))\n",
    "    plot_all(filtered_runs, 'EpRewMean', axis[i])\n",
    "    axis[i].set_title(\"Method: \" + method + \" - Delta: \" + str(delta))\n",
    "plt.show();"
   ]
  },
  {
   "cell_type": "code",
   "execution_count": null,
   "metadata": {},
   "outputs": [],
   "source": [
    "query = {\n",
    "        'config.env': 'rllab.inverted-pendulum',\n",
    "        'config.iw_method': 'is',\n",
    "        'config.delta': 0.9999,\n",
    "        'config.bound': 'max-d2-harmonic',\n",
    "        'config.num_episodes': 100,\n",
    "        'config.policy_init': 'zeros',\n",
    "        'config.capacity': 10\n",
    "    }\n",
    "filtered_runs = filter_runs({**base_query, **query}, mis_runs_local)\n",
    "fig, axis = plt.subplots(nrows=1, ncols=1, figsize=(6,4))\n",
    "plot_mean_ci(filtered_runs, 'EpRewMean', axis)\n",
    "query_is = {\n",
    "        'config.env': 'rllab.inverted-pendulum',\n",
    "        'config.iw_method': 'is',\n",
    "        'config.delta': 0.9,\n",
    "        'config.bound': 'max-d2',\n",
    "        'config.num_episodes': 100,\n",
    "        'config.policy_init': 'zeros'\n",
    "}\n",
    "filtered_runs_is = filter_runs({**base_query, **query_is}, total_runs)\n",
    "plot_mean_ci(filtered_runs_is, 'EpRewMean', axis)\n",
    "plt.show();\n",
    "print(\"Seeds:\", \", \".join(map(str, [filtered_runs[key]['config']['seed'] for key in filtered_runs.keys()])))"
   ]
  },
  {
   "cell_type": "markdown",
   "metadata": {},
   "source": [
    "## Acrobot"
   ]
  },
  {
   "cell_type": "code",
   "execution_count": null,
   "metadata": {},
   "outputs": [],
   "source": [
    "fig, axis = plt.subplots(nrows=5, ncols=1, figsize=(16,16), sharex=True, sharey=True)\n",
    "for i, (method, bound, delta) in enumerate([('is', 'max-d2-harmonic', 0.1), \n",
    "                                              ('is', 'max-d2-harmonic', 0.3),\n",
    "                                              ('is', 'max-d2-harmonic', 0.5),\n",
    "                                              ('is', 'max-d2-harmonic', 0.7),\n",
    "                                              ('is', 'max-d2-harmonic', 0.9),\n",
    "                                            ]):\n",
    "    query = {\n",
    "        'config.env': 'rllab.acrobot',\n",
    "        'config.iw_method': method,\n",
    "        'config.delta': delta,\n",
    "        'config.bound': bound,\n",
    "        'config.num_episodes': 100,\n",
    "        'config.capacity': 10\n",
    "    }\n",
    "    filtered_runs = filter_runs({**base_query, **query}, total_runs)\n",
    "    print('----------------------------------------')\n",
    "    print(\"Method:\", method, \" - Delta:\", str(delta))\n",
    "    print(\"Experiments:\", len(filtered_runs.keys()))\n",
    "    print(\"Seeds:\", \", \".join(map(str, [filtered_runs[key]['config']['seed'] for key in filtered_runs.keys()])))\n",
    "    plot_all(filtered_runs, 'EpRewMean', axis[i])\n",
    "    axis[i].set_title(\"Method: \" + method + \" - Delta: \" + str(delta))\n",
    "plt.show();"
   ]
  },
  {
   "cell_type": "code",
   "execution_count": null,
   "metadata": {},
   "outputs": [],
   "source": [
    "query = {\n",
    "        'config.env': 'rllab.acrobot',\n",
    "        'config.iw_method': 'is',\n",
    "        'config.delta': 0.5,\n",
    "        'config.bound': 'max-d2-harmonic',\n",
    "        'config.num_episodes': 100,\n",
    "        'config.policy_init': 'zeros',\n",
    "        'config.capacity': 10\n",
    "    }\n",
    "filtered_runs = filter_runs({**base_query, **query}, mis_runs_local)\n",
    "fig, axis = plt.subplots(nrows=1, ncols=1, figsize=(6,4))\n",
    "plot_mean_ci(filtered_runs, 'EpRewMean', axis)\n",
    "query_is = {\n",
    "        'config.env': 'rllab.acrobot',\n",
    "        'config.iw_method': 'is',\n",
    "        'config.delta': 0.7,\n",
    "        'config.bound': 'max-d2',\n",
    "        'config.num_episodes': 100,\n",
    "        'config.policy_init': 'zeros'\n",
    "}\n",
    "filtered_runs_is = filter_runs({**base_query, **query_is}, total_runs)\n",
    "plot_mean_ci(filtered_runs_is, 'EpRewMean', axis)\n",
    "plt.show();\n",
    "print(\"Seeds:\", \", \".join(map(str, [filtered_runs[key]['config']['seed'] for key in filtered_runs.keys()])))"
   ]
  },
  {
   "cell_type": "markdown",
   "metadata": {},
   "source": [
    "## Mountain car"
   ]
  },
  {
   "cell_type": "code",
   "execution_count": null,
   "metadata": {},
   "outputs": [],
   "source": [
    "fig, axis = plt.subplots(nrows=5, ncols=1, figsize=(16,16), sharex=True, sharey=True)\n",
    "for i, (method, bound, delta) in enumerate([('is', 'max-d2-harmonic', 0.6), \n",
    "                                              ('is', 'max-d2-harmonic', 0.8),\n",
    "                                              ('is', 'max-d2-harmonic', 0.9),\n",
    "                                              ('is', 'max-d2-harmonic', 0.99),\n",
    "                                              ('is', 'max-d2-harmonic', 1.0),\n",
    "                                            ]):\n",
    "    query = {\n",
    "        'config.env': 'rllab.mountain-car',\n",
    "        'config.iw_method': method,\n",
    "        'config.delta': delta,\n",
    "        'config.bound': bound,\n",
    "        'config.num_episodes': 100,\n",
    "        'config.capacity': 10\n",
    "    }\n",
    "    filtered_runs = filter_runs({**base_query, **query}, total_runs)\n",
    "    print('----------------------------------------')\n",
    "    print(\"Method:\", method, \" - Delta:\", str(delta))\n",
    "    print(\"Experiments:\", len(filtered_runs.keys()))\n",
    "    print(\"Seeds:\", \", \".join(map(str, [filtered_runs[key]['config']['seed'] for key in filtered_runs.keys()])))\n",
    "    plot_all(filtered_runs, 'EpRewMean', axis[i])\n",
    "    axis[i].set_title(\"Method: \" + method + \" - Delta: \" + str(delta))\n",
    "plt.show();"
   ]
  },
  {
   "cell_type": "code",
   "execution_count": null,
   "metadata": {},
   "outputs": [],
   "source": [
    "query = {\n",
    "        'config.env': 'rllab.mountain-car',\n",
    "        'config.iw_method': 'is',\n",
    "        'config.delta': 0.9,\n",
    "        'config.bound': 'max-d2-harmonic',\n",
    "        'config.num_episodes': 100,\n",
    "        'config.policy_init': 'zeros',\n",
    "        'config.capacity': 10\n",
    "    }\n",
    "filtered_runs = filter_runs({**base_query, **query}, mis_runs_local)\n",
    "fig, axis = plt.subplots(nrows=1, ncols=1, figsize=(6,4))\n",
    "plot_mean_ci(filtered_runs, 'EpRewMean', axis)\n",
    "query_is = {\n",
    "        'config.env': 'rllab.mountain-car',\n",
    "        'config.iw_method': 'is',\n",
    "        'config.delta': 0.9,\n",
    "        'config.bound': 'max-d2',\n",
    "        'config.num_episodes': 100,\n",
    "        'config.policy_init': 'zeros'\n",
    "}\n",
    "filtered_runs_is = filter_runs({**base_query, **query_is}, total_runs)\n",
    "plot_mean_ci(filtered_runs_is, 'EpRewMean', axis)\n",
    "plt.show();\n",
    "print(\"Seeds:\", \", \".join(map(str, [filtered_runs[key]['config']['seed'] for key in filtered_runs.keys()])))"
   ]
  },
  {
   "cell_type": "code",
   "execution_count": null,
   "metadata": {},
   "outputs": [],
   "source": []
  }
 ],
 "metadata": {
  "kernelspec": {
   "display_name": "Python 3",
   "language": "python",
   "name": "python3"
  },
  "language_info": {
   "codemirror_mode": {
    "name": "ipython",
    "version": 3
   },
   "file_extension": ".py",
   "mimetype": "text/x-python",
   "name": "python",
   "nbconvert_exporter": "python",
   "pygments_lexer": "ipython3",
   "version": "3.6.0"
  }
 },
 "nbformat": 4,
 "nbformat_minor": 2
}
