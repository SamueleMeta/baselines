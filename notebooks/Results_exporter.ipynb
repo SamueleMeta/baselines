{
 "cells": [
  {
   "cell_type": "markdown",
   "metadata": {},
   "source": [
    "# Results exporter\n",
    "Notebook to easily load a sacred experiment and create a CSV file ready to be used in Latex."
   ]
  },
  {
   "cell_type": "code",
   "execution_count": 1,
   "metadata": {},
   "outputs": [],
   "source": [
    "import sys\n",
    "sys.path = ['..'] + sys.path\n",
    "import pandas as pd\n",
    "import numpy as np\n",
    "import glob, sys, json, re\n",
    "import matplotlib\n",
    "import matplotlib.pyplot as plt\n",
    "import scipy.stats as sts\n",
    "from sacred_notebook_utils import plot_mean_ci, plot_all\n",
    "from baselines.common.sacred_utils import load_runs, filter_runs\n",
    "import scipy.stats as sts"
   ]
  },
  {
   "cell_type": "code",
   "execution_count": 2,
   "metadata": {},
   "outputs": [
    {
     "name": "stdout",
     "output_type": "stream",
     "text": [
      "Loaded runs: 572\n",
      "Loaded final runs: 704\n"
     ]
    }
   ],
   "source": [
    "runs = load_runs('../../../sacred_data/sacred_runs_master/')\n",
    "print(\"Loaded runs:\", len(runs.keys()))\n",
    "final_runs = load_runs('../../../sacred_data/sacred_runs_final/')\n",
    "print(\"Loaded final runs:\", len(final_runs.keys()))"
   ]
  },
  {
   "cell_type": "code",
   "execution_count": 3,
   "metadata": {},
   "outputs": [
    {
     "name": "stdout",
     "output_type": "stream",
     "text": [
      "Loaded pdisnn runs: 293\n"
     ]
    }
   ],
   "source": [
    "pdisnn_runs_local = load_runs('../sacred_pdisnn/')\n",
    "print(\"Loaded pdisnn runs:\", len(pdisnn_runs_local.keys()))\n",
    "# Merge the runs\n",
    "total_runs = {}\n",
    "for key, value in runs.items():\n",
    "    total_runs[str(key) + '-base'] = value\n",
    "for key, value in final_runs.items():\n",
    "    total_runs[str(key) + '-final'] = value\n",
    "for key, value in pdisnn_runs_local.items():\n",
    "    total_runs[str(key) + '-local'] = value"
   ]
  },
  {
   "cell_type": "markdown",
   "metadata": {},
   "source": [
    "## Load the experiment we need"
   ]
  },
  {
   "cell_type": "code",
   "execution_count": 82,
   "metadata": {},
   "outputs": [
    {
     "name": "stdout",
     "output_type": "stream",
     "text": [
      "Experiments: 20\n",
      "Seeds: 545, 236, 662, 153, 746, 712, 950, 481, 307, 42, 15, 315, 245, 947, 963, 689, 178, 100, 247, 8\n"
     ]
    }
   ],
   "source": [
    "query = {\n",
    "    'run.status': 'COMPLETED',\n",
    "    'config.center': False,\n",
    "    'config.gamma': 1.0,\n",
    "    'config.clipping': False,\n",
    "    'config.natural': False,\n",
    "    'config.policy': 'linear',\n",
    "    'config.iw_norm': 'none',\n",
    "    'config.entropy': 'none',\n",
    "    'config.env': 'rllab.inverted-pendulum',\n",
    "    'config.iw_method': 'pdis',\n",
    "    'config.delta': 0.9999,\n",
    "    'config.bound': 'pdis-max-d2',\n",
    "    'config.num_episodes': 100,\n",
    "    'config.experiment_name': 'pdis_variance_test_v2std'\n",
    "}\n",
    "filtered_runs = filter_runs(query, total_runs)\n",
    "print(\"Experiments:\", len(filtered_runs.keys()))\n",
    "print(\"Seeds:\", \", \".join(map(str, [filtered_runs[key]['config']['seed'] for key in filtered_runs.keys()])))"
   ]
  },
  {
   "cell_type": "markdown",
   "metadata": {},
   "source": [
    "## Extract the data we need for the CSV"
   ]
  },
  {
   "cell_type": "code",
   "execution_count": 83,
   "metadata": {
    "scrolled": true
   },
   "outputs": [
    {
     "name": "stdout",
     "output_type": "stream",
     "text": [
      "(100, 5)\n"
     ]
    },
    {
     "data": {
      "text/html": [
       "<div>\n",
       "<style scoped>\n",
       "    .dataframe tbody tr th:only-of-type {\n",
       "        vertical-align: middle;\n",
       "    }\n",
       "\n",
       "    .dataframe tbody tr th {\n",
       "        vertical-align: top;\n",
       "    }\n",
       "\n",
       "    .dataframe thead th {\n",
       "        text-align: right;\n",
       "    }\n",
       "</style>\n",
       "<table border=\"1\" class=\"dataframe\">\n",
       "  <thead>\n",
       "    <tr style=\"text-align: right;\">\n",
       "      <th></th>\n",
       "      <th>iteration</th>\n",
       "      <th>mean</th>\n",
       "      <th>std</th>\n",
       "      <th>low</th>\n",
       "      <th>up</th>\n",
       "    </tr>\n",
       "  </thead>\n",
       "  <tbody>\n",
       "    <tr>\n",
       "      <th>0</th>\n",
       "      <td>1</td>\n",
       "      <td>0.306196</td>\n",
       "      <td>0.062019</td>\n",
       "      <td>0.276416</td>\n",
       "      <td>0.335976</td>\n",
       "    </tr>\n",
       "    <tr>\n",
       "      <th>5</th>\n",
       "      <td>6</td>\n",
       "      <td>0.152475</td>\n",
       "      <td>0.055463</td>\n",
       "      <td>0.125843</td>\n",
       "      <td>0.179107</td>\n",
       "    </tr>\n",
       "    <tr>\n",
       "      <th>10</th>\n",
       "      <td>11</td>\n",
       "      <td>0.131421</td>\n",
       "      <td>0.032307</td>\n",
       "      <td>0.115909</td>\n",
       "      <td>0.146934</td>\n",
       "    </tr>\n",
       "    <tr>\n",
       "      <th>15</th>\n",
       "      <td>16</td>\n",
       "      <td>0.100738</td>\n",
       "      <td>0.051570</td>\n",
       "      <td>0.075975</td>\n",
       "      <td>0.125501</td>\n",
       "    </tr>\n",
       "    <tr>\n",
       "      <th>20</th>\n",
       "      <td>21</td>\n",
       "      <td>0.093107</td>\n",
       "      <td>0.032888</td>\n",
       "      <td>0.077316</td>\n",
       "      <td>0.108899</td>\n",
       "    </tr>\n",
       "  </tbody>\n",
       "</table>\n",
       "</div>"
      ],
      "text/plain": [
       "    iteration      mean       std       low        up\n",
       "0           1  0.306196  0.062019  0.276416  0.335976\n",
       "5           6  0.152475  0.055463  0.125843  0.179107\n",
       "10         11  0.131421  0.032307  0.115909  0.146934\n",
       "15         16  0.100738  0.051570  0.075975  0.125501\n",
       "20         21  0.093107  0.032888  0.077316  0.108899"
      ]
     },
     "execution_count": 83,
     "metadata": {},
     "output_type": "execute_result"
    }
   ],
   "source": [
    "runs = list(filtered_runs.keys())\n",
    "df = []\n",
    "for run_key in runs:\n",
    "    episodes = filtered_runs[run_key]['metrics']['Iteration']['values']\n",
    "    # Plot reward\n",
    "    #rewards = filtered_runs[run_key]['metrics']['EpRewMean']['values']\n",
    "    #df.append(pd.Series(rewards, episodes))\n",
    "    \n",
    "    # Plot IW std\n",
    "    #stdiw_pdis = filtered_runs[run_key]['metrics']['StdIW_mean']['values']\n",
    "    #stdiw_is = filtered_runs[run_key]['metrics']['IS_StdIW']['values']\n",
    "    #ratio = (np.array(stdiw_is) - np.array(stdiw_pdis)) / np.abs(np.array(stdiw_pdis))\n",
    "    #df.append(pd.Series(ratio, episodes))\n",
    "    \n",
    "    # Plot J std\n",
    "    stdiw_pdis = filtered_runs[run_key]['metrics']['J_sample_variance']['values']\n",
    "    stdiw_is = filtered_runs[run_key]['metrics']['IS_J_sample_variance']['values']    \n",
    "    ratio = (np.sqrt(np.array(stdiw_is)) - np.sqrt(np.array(stdiw_pdis))) / np.sqrt(np.abs(np.array(stdiw_pdis)))\n",
    "    df.append(pd.Series(ratio, episodes))\n",
    "performance = pd.concat(df, axis=1)\n",
    "values = performance.values\n",
    "initial_columns = list(performance)\n",
    "performance['mean'] = np.mean(values, axis=1)\n",
    "performance['std'] = np.std(values, axis=1)\n",
    "low, up = sts.t.interval(0.95, values.shape[1]-1, loc=np.mean(values, axis=1), scale=sts.sem(values, axis=1))\n",
    "performance['low'] = low\n",
    "performance['up'] = up\n",
    "performance.drop(columns=initial_columns, inplace=True)\n",
    "performance.reset_index(inplace=True)\n",
    "performance.rename(columns={'index': 'iteration'}, inplace=True)\n",
    "#performance['iteration'] -= 100\n",
    "performance = performance.iloc[::5]\n",
    "print(performance.shape)\n",
    "performance.head()"
   ]
  },
  {
   "cell_type": "markdown",
   "metadata": {},
   "source": [
    "## Create the CSV"
   ]
  },
  {
   "cell_type": "code",
   "execution_count": 84,
   "metadata": {},
   "outputs": [],
   "source": [
    "performance.to_csv('variance_ip_jratio_100.csv', index=False)"
   ]
  },
  {
   "cell_type": "code",
   "execution_count": null,
   "metadata": {},
   "outputs": [],
   "source": []
  }
 ],
 "metadata": {
  "kernelspec": {
   "display_name": "Python 3",
   "language": "python",
   "name": "python3"
  },
  "language_info": {
   "codemirror_mode": {
    "name": "ipython",
    "version": 3
   },
   "file_extension": ".py",
   "mimetype": "text/x-python",
   "name": "python",
   "nbconvert_exporter": "python",
   "pygments_lexer": "ipython3",
   "version": "3.6.0"
  }
 },
 "nbformat": 4,
 "nbformat_minor": 2
}
