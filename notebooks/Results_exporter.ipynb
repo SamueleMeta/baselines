{
 "cells": [
  {
   "cell_type": "markdown",
   "metadata": {},
   "source": [
    "# Results exporter\n",
    "Notebook to easily load a sacred experiment and create a CSV file ready to be used in Latex."
   ]
  },
  {
   "cell_type": "code",
   "execution_count": 1,
   "metadata": {},
   "outputs": [],
   "source": [
    "import sys\n",
    "sys.path = ['..'] + sys.path\n",
    "import pandas as pd\n",
    "import numpy as np\n",
    "import glob, sys, json, re\n",
    "import matplotlib\n",
    "import matplotlib.pyplot as plt\n",
    "import scipy.stats as sts\n",
    "from sacred_notebook_utils import plot_mean_ci, plot_all\n",
    "from baselines.common.sacred_utils import load_runs, filter_runs\n",
    "import scipy.stats as sts"
   ]
  },
  {
   "cell_type": "code",
   "execution_count": 2,
   "metadata": {},
   "outputs": [
    {
     "name": "stdout",
     "output_type": "stream",
     "text": [
      "Loaded runs: 572\n",
      "Loaded final runs: 704\n",
      "Loaded deep runs: 155\n"
     ]
    }
   ],
   "source": [
    "runs = load_runs('../../../sacred_data/sacred_runs_master/')\n",
    "print(\"Loaded runs:\", len(runs.keys()))\n",
    "final_runs = load_runs('../../../sacred_data/sacred_runs_final/')\n",
    "print(\"Loaded final runs:\", len(final_runs.keys()))\n",
    "deep_runs = load_runs('../sacred_deep/')\n",
    "print(\"Loaded deep runs:\", len(deep_runs.keys()))"
   ]
  },
  {
   "cell_type": "code",
   "execution_count": 3,
   "metadata": {},
   "outputs": [
    {
     "name": "stdout",
     "output_type": "stream",
     "text": [
      "Loaded pdisnn runs: 628\n",
      "Loaded mis runs: 772\n"
     ]
    }
   ],
   "source": [
    "pdisnn_runs_local = load_runs('../sacred_pdisnn/')\n",
    "print(\"Loaded pdisnn runs:\", len(pdisnn_runs_local.keys()))\n",
    "mis_runs_local = load_runs('../sacred_mis/')\n",
    "print(\"Loaded mis runs:\", len(mis_runs_local.keys()))\n",
    "# Merge the runs\n",
    "total_runs = {}\n",
    "for key, value in runs.items():\n",
    "    total_runs[str(key) + '-base'] = value\n",
    "for key, value in final_runs.items():\n",
    "    total_runs[str(key) + '-final'] = value\n",
    "for key, value in pdisnn_runs_local.items():\n",
    "    total_runs[str(key) + '-local'] = value\n",
    "for key, value in mis_runs_local.items():\n",
    "    total_runs[str(key) + '-mis'] = value\n",
    "for key, value in deep_runs.items():\n",
    "    total_runs[str(key) + '-deep'] = value"
   ]
  },
  {
   "cell_type": "markdown",
   "metadata": {},
   "source": [
    "## Load the experiment we need"
   ]
  },
  {
   "cell_type": "code",
   "execution_count": 8,
   "metadata": {},
   "outputs": [
    {
     "name": "stdout",
     "output_type": "stream",
     "text": [
      "Experiments: 5\n",
      "Seeds: 10, 109, 570, 904, 160\n"
     ]
    },
    {
     "data": {
      "image/png": "[encoded data removed]",
      "text/plain": [
       "<Figure size 1152x288 with 1 Axes>"
      ]
     },
     "metadata": {},
     "output_type": "display_data"
    }
   ],
   "source": [
    "query = {\n",
    "    'run.status': 'COMPLETED',\n",
    "    'config.center': True,\n",
    "    'config.gamma': 1.0,\n",
    "    #'config.clipping': False,\n",
    "    #'config.natural': False,\n",
    "    'config.policy': 'nn',\n",
    "    'config.iw_norm': 'none',\n",
    "    'config.entropy': 'none',\n",
    "    'config.env': 'rllab.swimmer',\n",
    "    'config.iw_method': 'pdis',\n",
    "    'config.delta': 0.99,\n",
    "    'config.bound': 'pdis-max-d2',\n",
    "    #'config.capacity': 5,\n",
    "    #'config.njobs': 10,\n",
    "    'config.num_episodes': 100\n",
    "}\n",
    "filtered_runs = filter_runs(query, total_runs)\n",
    "print(\"Experiments:\", len(filtered_runs.keys()))\n",
    "print(\"Seeds:\", \", \".join(map(str, [filtered_runs[key]['config']['seed'] for key in filtered_runs.keys()])))\n",
    "fig, axis = plt.subplots(nrows=1, ncols=1, figsize=(16,4))\n",
    "plot_mean_ci(filtered_runs, 'EpRewMean', axis)\n",
    "plt.grid()\n",
    "plt.show();"
   ]
  },
  {
   "cell_type": "markdown",
   "metadata": {},
   "source": [
    "## Extract the data we need for the CSV"
   ]
  },
  {
   "cell_type": "code",
   "execution_count": 9,
   "metadata": {
    "scrolled": false
   },
   "outputs": [
    {
     "name": "stdout",
     "output_type": "stream",
     "text": [
      "(100, 7)\n"
     ]
    },
    {
     "data": {
      "text/html": [
       "<div>\n",
       "<style scoped>\n",
       "    .dataframe tbody tr th:only-of-type {\n",
       "        vertical-align: middle;\n",
       "    }\n",
       "\n",
       "    .dataframe tbody tr th {\n",
       "        vertical-align: top;\n",
       "    }\n",
       "\n",
       "    .dataframe thead th {\n",
       "        text-align: right;\n",
       "    }\n",
       "</style>\n",
       "<table border=\"1\" class=\"dataframe\">\n",
       "  <thead>\n",
       "    <tr style=\"text-align: right;\">\n",
       "      <th></th>\n",
       "      <th>iteration</th>\n",
       "      <th>mean</th>\n",
       "      <th>std</th>\n",
       "      <th>low</th>\n",
       "      <th>up</th>\n",
       "      <th>timesteps</th>\n",
       "      <th>episodes</th>\n",
       "    </tr>\n",
       "  </thead>\n",
       "  <tbody>\n",
       "    <tr>\n",
       "      <th>0</th>\n",
       "      <td>1</td>\n",
       "      <td>-3.651013</td>\n",
       "      <td>4.027432</td>\n",
       "      <td>-9.241984</td>\n",
       "      <td>1.939959</td>\n",
       "      <td>50000.0</td>\n",
       "      <td>100</td>\n",
       "    </tr>\n",
       "    <tr>\n",
       "      <th>5</th>\n",
       "      <td>6</td>\n",
       "      <td>11.138734</td>\n",
       "      <td>8.888414</td>\n",
       "      <td>-1.200363</td>\n",
       "      <td>23.477830</td>\n",
       "      <td>300000.0</td>\n",
       "      <td>600</td>\n",
       "    </tr>\n",
       "    <tr>\n",
       "      <th>10</th>\n",
       "      <td>11</td>\n",
       "      <td>28.662048</td>\n",
       "      <td>9.042092</td>\n",
       "      <td>16.109612</td>\n",
       "      <td>41.214485</td>\n",
       "      <td>550000.0</td>\n",
       "      <td>1100</td>\n",
       "    </tr>\n",
       "    <tr>\n",
       "      <th>15</th>\n",
       "      <td>16</td>\n",
       "      <td>41.175494</td>\n",
       "      <td>6.732124</td>\n",
       "      <td>31.829807</td>\n",
       "      <td>50.521180</td>\n",
       "      <td>800000.0</td>\n",
       "      <td>1600</td>\n",
       "    </tr>\n",
       "    <tr>\n",
       "      <th>20</th>\n",
       "      <td>21</td>\n",
       "      <td>53.597370</td>\n",
       "      <td>5.980211</td>\n",
       "      <td>45.295506</td>\n",
       "      <td>61.899233</td>\n",
       "      <td>1050000.0</td>\n",
       "      <td>2100</td>\n",
       "    </tr>\n",
       "  </tbody>\n",
       "</table>\n",
       "</div>"
      ],
      "text/plain": [
       "    iteration       mean       std        low         up  timesteps  episodes\n",
       "0           1  -3.651013  4.027432  -9.241984   1.939959    50000.0       100\n",
       "5           6  11.138734  8.888414  -1.200363  23.477830   300000.0       600\n",
       "10         11  28.662048  9.042092  16.109612  41.214485   550000.0      1100\n",
       "15         16  41.175494  6.732124  31.829807  50.521180   800000.0      1600\n",
       "20         21  53.597370  5.980211  45.295506  61.899233  1050000.0      2100"
      ]
     },
     "execution_count": 9,
     "metadata": {},
     "output_type": "execute_result"
    }
   ],
   "source": [
    "runs = list(filtered_runs.keys())\n",
    "rewards, timesteps = [], []\n",
    "for run_key in runs:\n",
    "    # Get the iteration number, used as index\n",
    "    iteration = filtered_runs[run_key]['metrics']['Iteration']['values']\n",
    "    # Get the number of timesteps \n",
    "    timestep = filtered_runs[run_key]['metrics']['TimestepsSoFar']['values']\n",
    "    # Get reward\n",
    "    reward = filtered_runs[run_key]['metrics']['EpRewMean']['values']\n",
    "    rewards.append(pd.Series(reward, iteration))\n",
    "    timesteps.append(pd.Series(timestep, iteration))\n",
    "    # Plot IW std\n",
    "    #stdiw_pdis = filtered_runs[run_key]['metrics']['StdIW_mean']['values']\n",
    "    #stdiw_is = filtered_runs[run_key]['metrics']['IS_StdIW']['values']\n",
    "    #ratio = (np.array(stdiw_is) - np.array(stdiw_pdis)) / np.abs(np.array(stdiw_pdis))\n",
    "    #df.append(pd.Series(ratio, episodes))\n",
    "    \n",
    "    # Plot J std\n",
    "    #stdiw_pdis = filtered_runs[run_key]['metrics']['J_sample_variance']['values']\n",
    "    #stdiw_is = filtered_runs[run_key]['metrics']['IS_J_sample_variance']['values']    \n",
    "    #ratio = (np.sqrt(np.array(stdiw_is)) - np.sqrt(np.array(stdiw_pdis))) / np.sqrt(np.abs(np.array(stdiw_pdis)))\n",
    "    #df.append(pd.Series(ratio, episodes))\n",
    "    \n",
    "rewards = pd.concat(rewards, axis=1)\n",
    "timesteps = pd.concat(timesteps, axis=1)\n",
    "\n",
    "# Compute the mean reward with confidence interval\n",
    "initial_columns = list(rewards)\n",
    "reward_values = rewards.values\n",
    "rewards['mean'] = np.mean(reward_values, axis=1)\n",
    "rewards['std'] = np.std(reward_values, axis=1)\n",
    "low, up = sts.t.interval(0.95, reward_values.shape[1]-1, loc=np.mean(reward_values, axis=1), scale=sts.sem(reward_values, axis=1))\n",
    "rewards['low'] = low\n",
    "rewards['up'] = up\n",
    "rewards.drop(columns=initial_columns, inplace=True)\n",
    "\n",
    "# Mean timesteps per iteration\n",
    "rewards['timesteps'] = np.mean(timesteps.values, axis=1)\n",
    "rewards.reset_index(inplace=True)\n",
    "rewards.rename(columns={'index': 'iteration'}, inplace=True)\n",
    "rewards['episodes'] = rewards['iteration'] * 100\n",
    "rewards = rewards.iloc[::5]\n",
    "print(rewards.shape)\n",
    "rewards.head()"
   ]
  },
  {
   "cell_type": "markdown",
   "metadata": {},
   "source": [
    "## Create the CSV"
   ]
  },
  {
   "cell_type": "code",
   "execution_count": 10,
   "metadata": {},
   "outputs": [],
   "source": [
    "#rewards = rewards[rewards.timesteps < 25000000]\n",
    "rewards.to_csv('swimmer-pdis-pois.csv', index=False)"
   ]
  },
  {
   "cell_type": "code",
   "execution_count": null,
   "metadata": {},
   "outputs": [],
   "source": []
  }
 ],
 "metadata": {
  "kernelspec": {
   "display_name": "Python 3",
   "language": "python",
   "name": "python3"
  },
  "language_info": {
   "codemirror_mode": {
    "name": "ipython",
    "version": 3
   },
   "file_extension": ".py",
   "mimetype": "text/x-python",
   "name": "python",
   "nbconvert_exporter": "python",
   "pygments_lexer": "ipython3",
   "version": "3.6.0"
  }
 },
 "nbformat": 4,
 "nbformat_minor": 2
}
