{
 "cells": [
  {
   "cell_type": "markdown",
   "metadata": {},
   "source": [
    "# Results exporter\n",
    "Notebook to easily load a sacred experiment and create a CSV file ready to be used in Latex."
   ]
  },
  {
   "cell_type": "code",
   "execution_count": 26,
   "metadata": {},
   "outputs": [],
   "source": [
    "import sys\n",
    "sys.path = ['..'] + sys.path\n",
    "import pandas as pd\n",
    "import numpy as np\n",
    "import glob, sys, json, re\n",
    "import matplotlib\n",
    "import matplotlib.pyplot as plt\n",
    "import scipy.stats as sts\n",
    "from sacred_notebook_utils import plot_mean_ci, plot_all\n",
    "from baselines.common.sacred_utils import load_runs, filter_runs\n",
    "import scipy.stats as sts"
   ]
  },
  {
   "cell_type": "code",
   "execution_count": 2,
   "metadata": {},
   "outputs": [
    {
     "name": "stdout",
     "output_type": "stream",
     "text": [
      "Loaded runs: 572\n",
      "Loaded final runs: 704\n"
     ]
    }
   ],
   "source": [
    "runs = load_runs('../../../sacred_data/sacred_runs_master/')\n",
    "print(\"Loaded runs:\", len(runs.keys()))\n",
    "final_runs = load_runs('../../../sacred_data/sacred_runs_final/')\n",
    "print(\"Loaded final runs:\", len(final_runs.keys()))"
   ]
  },
  {
   "cell_type": "code",
   "execution_count": 3,
   "metadata": {},
   "outputs": [
    {
     "name": "stdout",
     "output_type": "stream",
     "text": [
      "Loaded pdisnn runs: 213\n"
     ]
    }
   ],
   "source": [
    "pdisnn_runs_local = load_runs('../sacred_pdisnn/')\n",
    "print(\"Loaded pdisnn runs:\", len(pdisnn_runs_local.keys()))\n",
    "# Merge the runs\n",
    "total_runs = {}\n",
    "for key, value in runs.items():\n",
    "    total_runs[str(key) + '-base'] = value\n",
    "for key, value in final_runs.items():\n",
    "    total_runs[str(key) + '-final'] = value\n",
    "for key, value in pdisnn_runs_local.items():\n",
    "    total_runs[str(key) + '-local'] = value"
   ]
  },
  {
   "cell_type": "markdown",
   "metadata": {},
   "source": [
    "## Load the experiment we need"
   ]
  },
  {
   "cell_type": "code",
   "execution_count": 67,
   "metadata": {},
   "outputs": [
    {
     "name": "stdout",
     "output_type": "stream",
     "text": [
      "Experiments: 25\n",
      "Seeds: 481, 236, 247, 245, 904, 109, 570, 178, 307, 746, 42, 963, 689, 712, 100, 153, 662, 947, 15, 10, 8, 315, 545, 160, 950\n"
     ]
    }
   ],
   "source": [
    "query = {\n",
    "    'run.status': 'COMPLETED',\n",
    "    'config.center': False,\n",
    "    'config.gamma': 1.0,\n",
    "    'config.clipping': False,\n",
    "    'config.natural': False,\n",
    "    'config.policy': 'linear',\n",
    "    'config.iw_norm': 'none',\n",
    "    'config.entropy': 'none',\n",
    "    'config.env': 'rllab.inverted-pendulum',\n",
    "    'config.iw_method': 'pdis',\n",
    "    'config.delta': 0.9999,\n",
    "    'config.bound': 'pdis-max-d2',\n",
    "    'config.num_episodes': 100\n",
    "}\n",
    "filtered_runs = filter_runs(query, total_runs)\n",
    "print(\"Experiments:\", len(filtered_runs.keys()))\n",
    "print(\"Seeds:\", \", \".join(map(str, [filtered_runs[key]['config']['seed'] for key in filtered_runs.keys()])))"
   ]
  },
  {
   "cell_type": "markdown",
   "metadata": {},
   "source": [
    "## Extract the data we need for the CSV"
   ]
  },
  {
   "cell_type": "code",
   "execution_count": 68,
   "metadata": {
    "scrolled": true
   },
   "outputs": [
    {
     "name": "stdout",
     "output_type": "stream",
     "text": [
      "(100, 5)\n"
     ]
    },
    {
     "data": {
      "text/html": [
       "<div>\n",
       "<style scoped>\n",
       "    .dataframe tbody tr th:only-of-type {\n",
       "        vertical-align: middle;\n",
       "    }\n",
       "\n",
       "    .dataframe tbody tr th {\n",
       "        vertical-align: top;\n",
       "    }\n",
       "\n",
       "    .dataframe thead th {\n",
       "        text-align: right;\n",
       "    }\n",
       "</style>\n",
       "<table border=\"1\" class=\"dataframe\">\n",
       "  <thead>\n",
       "    <tr style=\"text-align: right;\">\n",
       "      <th></th>\n",
       "      <th>iteration</th>\n",
       "      <th>mean</th>\n",
       "      <th>std</th>\n",
       "      <th>low</th>\n",
       "      <th>up</th>\n",
       "    </tr>\n",
       "  </thead>\n",
       "  <tbody>\n",
       "    <tr>\n",
       "      <th>0</th>\n",
       "      <td>0</td>\n",
       "      <td>-151.972289</td>\n",
       "      <td>2.707095</td>\n",
       "      <td>-153.112765</td>\n",
       "      <td>-150.831813</td>\n",
       "    </tr>\n",
       "    <tr>\n",
       "      <th>5</th>\n",
       "      <td>500</td>\n",
       "      <td>-128.641413</td>\n",
       "      <td>7.564690</td>\n",
       "      <td>-131.828353</td>\n",
       "      <td>-125.454473</td>\n",
       "    </tr>\n",
       "    <tr>\n",
       "      <th>10</th>\n",
       "      <td>1000</td>\n",
       "      <td>-122.992345</td>\n",
       "      <td>6.363244</td>\n",
       "      <td>-125.673126</td>\n",
       "      <td>-120.311564</td>\n",
       "    </tr>\n",
       "    <tr>\n",
       "      <th>15</th>\n",
       "      <td>1500</td>\n",
       "      <td>-117.489331</td>\n",
       "      <td>7.443761</td>\n",
       "      <td>-120.625324</td>\n",
       "      <td>-114.353337</td>\n",
       "    </tr>\n",
       "    <tr>\n",
       "      <th>20</th>\n",
       "      <td>2000</td>\n",
       "      <td>-115.592714</td>\n",
       "      <td>7.828478</td>\n",
       "      <td>-118.890785</td>\n",
       "      <td>-112.294642</td>\n",
       "    </tr>\n",
       "  </tbody>\n",
       "</table>\n",
       "</div>"
      ],
      "text/plain": [
       "    iteration        mean       std         low          up\n",
       "0           0 -151.972289  2.707095 -153.112765 -150.831813\n",
       "5         500 -128.641413  7.564690 -131.828353 -125.454473\n",
       "10       1000 -122.992345  6.363244 -125.673126 -120.311564\n",
       "15       1500 -117.489331  7.443761 -120.625324 -114.353337\n",
       "20       2000 -115.592714  7.828478 -118.890785 -112.294642"
      ]
     },
     "execution_count": 68,
     "metadata": {},
     "output_type": "execute_result"
    }
   ],
   "source": [
    "runs = list(filtered_runs.keys())\n",
    "df = []\n",
    "for run_key in runs:\n",
    "    episodes = filtered_runs[run_key]['metrics']['EpisodesSoFar']['values']\n",
    "    rewards = filtered_runs[run_key]['metrics']['EpRewMean']['values']\n",
    "    df.append(pd.Series(rewards, episodes))\n",
    "performance = pd.concat(df, axis=1)\n",
    "values = performance.values\n",
    "initial_columns = list(performance)\n",
    "performance['mean'] = np.mean(values, axis=1)\n",
    "performance['std'] = np.std(values, axis=1)\n",
    "low, up = sts.t.interval(0.95, values.shape[1]-1, loc=np.mean(values, axis=1), scale=sts.sem(values, axis=1))\n",
    "performance['low'] = low\n",
    "performance['up'] = up\n",
    "performance.drop(columns=initial_columns, inplace=True)\n",
    "performance.reset_index(inplace=True)\n",
    "performance.rename(columns={'index': 'iteration'}, inplace=True)\n",
    "performance['iteration'] -= 100\n",
    "performance = performance.iloc[::5]\n",
    "print(performance.shape)\n",
    "performance.head()"
   ]
  },
  {
   "cell_type": "markdown",
   "metadata": {},
   "source": [
    "## Create the CSV"
   ]
  },
  {
   "cell_type": "code",
   "execution_count": 69,
   "metadata": {},
   "outputs": [],
   "source": [
    "performance.to_csv('inverted-pendulum-pdis-pois.csv', index=False)"
   ]
  },
  {
   "cell_type": "code",
   "execution_count": null,
   "metadata": {},
   "outputs": [],
   "source": []
  }
 ],
 "metadata": {
  "kernelspec": {
   "display_name": "Python 3",
   "language": "python",
   "name": "python3"
  },
  "language_info": {
   "codemirror_mode": {
    "name": "ipython",
    "version": 3
   },
   "file_extension": ".py",
   "mimetype": "text/x-python",
   "name": "python",
   "nbconvert_exporter": "python",
   "pygments_lexer": "ipython3",
   "version": "3.6.0"
  }
 },
 "nbformat": 4,
 "nbformat_minor": 2
}
