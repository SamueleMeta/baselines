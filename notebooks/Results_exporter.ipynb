{
 "cells": [
  {
   "cell_type": "markdown",
   "metadata": {},
   "source": [
    "# Results exporter\n",
    "Notebook to easily load a sacred experiment and create a CSV file ready to be used in Latex."
   ]
  },
  {
   "cell_type": "code",
   "execution_count": 1,
   "metadata": {},
   "outputs": [],
   "source": [
    "import sys\n",
    "sys.path = ['..'] + sys.path\n",
    "import pandas as pd\n",
    "import numpy as np\n",
    "import glob, sys, json, re\n",
    "import matplotlib\n",
    "import matplotlib.pyplot as plt\n",
    "import scipy.stats as sts\n",
    "from sacred_notebook_utils import plot_mean_ci, plot_all\n",
    "from baselines.common.sacred_utils import load_runs, filter_runs\n",
    "import scipy.stats as sts"
   ]
  },
  {
   "cell_type": "code",
   "execution_count": 2,
   "metadata": {},
   "outputs": [
    {
     "name": "stdout",
     "output_type": "stream",
     "text": [
      "Loaded runs: 572\n",
      "Loaded final runs: 704\n"
     ]
    }
   ],
   "source": [
    "runs = load_runs('../../../sacred_data/sacred_runs_master/')\n",
    "print(\"Loaded runs:\", len(runs.keys()))\n",
    "final_runs = load_runs('../../../sacred_data/sacred_runs_final/')\n",
    "print(\"Loaded final runs:\", len(final_runs.keys()))"
   ]
  },
  {
   "cell_type": "code",
   "execution_count": 7,
   "metadata": {},
   "outputs": [
    {
     "name": "stdout",
     "output_type": "stream",
     "text": [
      "Loaded pdisnn runs: 588\n"
     ]
    }
   ],
   "source": [
    "pdisnn_runs_local = load_runs('../sacred_pdisnn/')\n",
    "print(\"Loaded pdisnn runs:\", len(pdisnn_runs_local.keys()))\n",
    "# Merge the runs\n",
    "total_runs = {}\n",
    "for key, value in runs.items():\n",
    "    total_runs[str(key) + '-base'] = value\n",
    "for key, value in final_runs.items():\n",
    "    total_runs[str(key) + '-final'] = value\n",
    "for key, value in pdisnn_runs_local.items():\n",
    "    total_runs[str(key) + '-local'] = value"
   ]
  },
  {
   "cell_type": "markdown",
   "metadata": {},
   "source": [
    "## Load the experiment we need"
   ]
  },
  {
   "cell_type": "code",
   "execution_count": 9,
   "metadata": {},
   "outputs": [
    {
     "name": "stdout",
     "output_type": "stream",
     "text": [
      "Experiments: 25\n",
      "Seeds: 109, 904, 160, 307, 746, 315, 545, 950, 481, 247, 15, 947, 8, 689, 236, 153, 100, 963, 245, 178, 42, 662, 712, 570, 10\n"
     ]
    }
   ],
   "source": [
    "query = {\n",
    "    'run.status': 'COMPLETED',\n",
    "    'config.center': False,\n",
    "    'config.gamma': 1.0,\n",
    "    'config.clipping': False,\n",
    "    'config.natural': False,\n",
    "    'config.policy': 'nn',\n",
    "    'config.iw_norm': 'none',\n",
    "    'config.entropy': 'none',\n",
    "    'config.env': 'rllab.mountain-car',\n",
    "    'config.iw_method': 'pdis',\n",
    "    'config.delta': 0.3,\n",
    "    'config.bound': 'pdis-max-d2',\n",
    "    'config.num_episodes': 100,\n",
    "}\n",
    "filtered_runs = filter_runs(query, total_runs)\n",
    "print(\"Experiments:\", len(filtered_runs.keys()))\n",
    "print(\"Seeds:\", \", \".join(map(str, [filtered_runs[key]['config']['seed'] for key in filtered_runs.keys()])))"
   ]
  },
  {
   "cell_type": "markdown",
   "metadata": {},
   "source": [
    "## Extract the data we need for the CSV"
   ]
  },
  {
   "cell_type": "code",
   "execution_count": 10,
   "metadata": {
    "scrolled": false
   },
   "outputs": [
    {
     "name": "stdout",
     "output_type": "stream",
     "text": [
      "(100, 6)\n"
     ]
    },
    {
     "data": {
      "text/html": [
       "<div>\n",
       "<style scoped>\n",
       "    .dataframe tbody tr th:only-of-type {\n",
       "        vertical-align: middle;\n",
       "    }\n",
       "\n",
       "    .dataframe tbody tr th {\n",
       "        vertical-align: top;\n",
       "    }\n",
       "\n",
       "    .dataframe thead th {\n",
       "        text-align: right;\n",
       "    }\n",
       "</style>\n",
       "<table border=\"1\" class=\"dataframe\">\n",
       "  <thead>\n",
       "    <tr style=\"text-align: right;\">\n",
       "      <th></th>\n",
       "      <th>iteration</th>\n",
       "      <th>mean</th>\n",
       "      <th>std</th>\n",
       "      <th>low</th>\n",
       "      <th>up</th>\n",
       "      <th>timesteps</th>\n",
       "    </tr>\n",
       "  </thead>\n",
       "  <tbody>\n",
       "    <tr>\n",
       "      <th>0</th>\n",
       "      <td>1</td>\n",
       "      <td>-413.986291</td>\n",
       "      <td>2.846634</td>\n",
       "      <td>-415.185554</td>\n",
       "      <td>-412.787028</td>\n",
       "      <td>50000.00</td>\n",
       "    </tr>\n",
       "    <tr>\n",
       "      <th>5</th>\n",
       "      <td>6</td>\n",
       "      <td>-411.306211</td>\n",
       "      <td>4.088395</td>\n",
       "      <td>-413.028617</td>\n",
       "      <td>-409.583805</td>\n",
       "      <td>300000.00</td>\n",
       "    </tr>\n",
       "    <tr>\n",
       "      <th>10</th>\n",
       "      <td>11</td>\n",
       "      <td>-403.598116</td>\n",
       "      <td>13.336060</td>\n",
       "      <td>-409.216486</td>\n",
       "      <td>-397.979747</td>\n",
       "      <td>549866.80</td>\n",
       "    </tr>\n",
       "    <tr>\n",
       "      <th>15</th>\n",
       "      <td>16</td>\n",
       "      <td>-387.670605</td>\n",
       "      <td>45.720395</td>\n",
       "      <td>-406.932220</td>\n",
       "      <td>-368.408990</td>\n",
       "      <td>796200.52</td>\n",
       "    </tr>\n",
       "    <tr>\n",
       "      <th>20</th>\n",
       "      <td>21</td>\n",
       "      <td>-357.513543</td>\n",
       "      <td>82.914018</td>\n",
       "      <td>-392.444517</td>\n",
       "      <td>-322.582570</td>\n",
       "      <td>1030603.92</td>\n",
       "    </tr>\n",
       "  </tbody>\n",
       "</table>\n",
       "</div>"
      ],
      "text/plain": [
       "    iteration        mean        std         low          up   timesteps\n",
       "0           1 -413.986291   2.846634 -415.185554 -412.787028    50000.00\n",
       "5           6 -411.306211   4.088395 -413.028617 -409.583805   300000.00\n",
       "10         11 -403.598116  13.336060 -409.216486 -397.979747   549866.80\n",
       "15         16 -387.670605  45.720395 -406.932220 -368.408990   796200.52\n",
       "20         21 -357.513543  82.914018 -392.444517 -322.582570  1030603.92"
      ]
     },
     "execution_count": 10,
     "metadata": {},
     "output_type": "execute_result"
    }
   ],
   "source": [
    "runs = list(filtered_runs.keys())\n",
    "rewards, timesteps = [], []\n",
    "for run_key in runs:\n",
    "    # Get the iteration number, used as index\n",
    "    iteration = filtered_runs[run_key]['metrics']['Iteration']['values']\n",
    "    # Get the number of timesteps \n",
    "    timestep = filtered_runs[run_key]['metrics']['TimestepsSoFar']['values']\n",
    "    # Get reward\n",
    "    reward = filtered_runs[run_key]['metrics']['EpRewMean']['values']\n",
    "    rewards.append(pd.Series(reward, iteration))\n",
    "    timesteps.append(pd.Series(timestep, iteration))\n",
    "    # Plot IW std\n",
    "    #stdiw_pdis = filtered_runs[run_key]['metrics']['StdIW_mean']['values']\n",
    "    #stdiw_is = filtered_runs[run_key]['metrics']['IS_StdIW']['values']\n",
    "    #ratio = (np.array(stdiw_is) - np.array(stdiw_pdis)) / np.abs(np.array(stdiw_pdis))\n",
    "    #df.append(pd.Series(ratio, episodes))\n",
    "    \n",
    "    # Plot J std\n",
    "    #stdiw_pdis = filtered_runs[run_key]['metrics']['J_sample_variance']['values']\n",
    "    #stdiw_is = filtered_runs[run_key]['metrics']['IS_J_sample_variance']['values']    \n",
    "    #ratio = (np.sqrt(np.array(stdiw_is)) - np.sqrt(np.array(stdiw_pdis))) / np.sqrt(np.abs(np.array(stdiw_pdis)))\n",
    "    #df.append(pd.Series(ratio, episodes))\n",
    "    \n",
    "rewards = pd.concat(rewards, axis=1)\n",
    "timesteps = pd.concat(timesteps, axis=1)\n",
    "\n",
    "# Compute the mean reward with confidence interval\n",
    "initial_columns = list(rewards)\n",
    "reward_values = rewards.values\n",
    "rewards['mean'] = np.mean(reward_values, axis=1)\n",
    "rewards['std'] = np.std(reward_values, axis=1)\n",
    "low, up = sts.t.interval(0.95, reward_values.shape[1]-1, loc=np.mean(reward_values, axis=1), scale=sts.sem(reward_values, axis=1))\n",
    "rewards['low'] = low\n",
    "rewards['up'] = up\n",
    "rewards.drop(columns=initial_columns, inplace=True)\n",
    "\n",
    "# Mean timesteps per iteration\n",
    "rewards['timesteps'] = np.mean(timesteps.values, axis=1)\n",
    "rewards.reset_index(inplace=True)\n",
    "rewards.rename(columns={'index': 'iteration'}, inplace=True)\n",
    "rewards = rewards.iloc[::5]\n",
    "print(rewards.shape)\n",
    "rewards.head()"
   ]
  },
  {
   "cell_type": "markdown",
   "metadata": {},
   "source": [
    "## Create the CSV"
   ]
  },
  {
   "cell_type": "code",
   "execution_count": 11,
   "metadata": {},
   "outputs": [],
   "source": [
    "rewards.to_csv('mountaincar-pdis-pois.csv', index=False)"
   ]
  },
  {
   "cell_type": "code",
   "execution_count": null,
   "metadata": {},
   "outputs": [],
   "source": []
  }
 ],
 "metadata": {
  "kernelspec": {
   "display_name": "Python 3",
   "language": "python",
   "name": "python3"
  },
  "language_info": {
   "codemirror_mode": {
    "name": "ipython",
    "version": 3
   },
   "file_extension": ".py",
   "mimetype": "text/x-python",
   "name": "python",
   "nbconvert_exporter": "python",
   "pygments_lexer": "ipython3",
   "version": "3.6.0"
  }
 },
 "nbformat": 4,
 "nbformat_minor": 2
}
