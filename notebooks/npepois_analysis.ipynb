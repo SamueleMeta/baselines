{
 "cells": [
  {
   "cell_type": "markdown",
   "metadata": {},
   "source": [
    "# Analysis of NPGPE-POIS"
   ]
  },
  {
   "cell_type": "code",
   "execution_count": 33,
   "metadata": {
    "collapsed": true
   },
   "outputs": [],
   "source": [
    "import numpy as np\n",
    "import pandas as pd\n",
    "import matplotlib.pyplot as plt\n",
    "import scipy.stats as sts\n",
    "\n",
    "plt.close('all')\n",
    "\n",
    "delta = 0.2\n",
    "\n",
    "def read_data(path):\n",
    "    df = pd.read_csv(path + 'progress.csv')\n",
    "    iterations = len(df)\n",
    "    batch_size = df['BatchSize']\n",
    "    theta = []\n",
    "    for i in range(8):\n",
    "        theta.append([])\n",
    "    for i in range(iterations):\n",
    "        policy_params = np.load(path + 'weights_' + str(i) + '.npy')\n",
    "        #iws = np.load(path + 'iws_' + str(i) + '.npy')\n",
    "        for i in range(8):\n",
    "            theta[i].append(policy_params[i])\n",
    "    for i in range(8):\n",
    "        df['theta%i' % (i+1)] = theta[i]\n",
    "    df['CumAvgRew'] = np.cumsum(df['AvgRet'])/iterations\n",
    "    return df\n",
    "\n",
    "def plot_data(dfs, columns, bottom=-np.infty, top=np.infty, rng=None):\n",
    "    fig = plt.figure()\n",
    "    ax = fig.add_subplot(111)\n",
    "    if type(dfs) is not list:\n",
    "        dfs = [dfs]\n",
    "    n_subplots = len(dfs)\n",
    "    for i in range(n_subplots): \n",
    "        df = dfs[i]\n",
    "        if rng is not None:\n",
    "            df = df[rng]\n",
    "        ax.set_xlabel('Iteration')\n",
    "        x = range(len(df))\n",
    "        for col in columns:\n",
    "            y = np.clip(df[col], bottom, top)\n",
    "            ax.plot(x, y, label=col)\n",
    "        ax.legend()\n",
    "    return fig\n",
    "\n",
    "def plot_ci(mean, std, conf, n_runs):\n",
    "    fig = plt.figure()\n",
    "    ax = fig.add_subplot(111)\n",
    "    ax.plot(mean.index, mean)\n",
    "    interval = sts.t.interval(conf, n_runs-1,loc=mean,scale=std/np.sqrt(n_runs))\n",
    "    ax.fill_between(mean.index, interval[0], interval[1], alpha=0.3)\n",
    "    return fig"
   ]
  },
  {
   "cell_type": "code",
   "execution_count": null,
   "metadata": {
    "collapsed": true
   },
   "outputs": [],
   "source": []
  },
  {
   "cell_type": "markdown",
   "metadata": {},
   "source": [
    "# Cartpole"
   ]
  },
  {
   "cell_type": "markdown",
   "metadata": {},
   "source": [
    "## Setting:\n",
    "* Policy: determinisitc linear w/o bias\n",
    "* Available random seeds: 107, 583, 850, 730, 808\n",
    "* Batch size: 100\n",
    "* Task variant: gym\n",
    "* Horizon: 200"
   ]
  },
  {
   "cell_type": "markdown",
   "metadata": {},
   "source": [
    "### Performance (undiscounted) on 5 different random seeds"
   ]
  },
  {
   "cell_type": "markdown",
   "metadata": {},
   "source": [
    "**Available data**"
   ]
  },
  {
   "cell_type": "code",
   "execution_count": 34,
   "metadata": {},
   "outputs": [
    {
     "data": {
      "image/png": "[encoded data removed]",
      "text/plain": [
       "<matplotlib.figure.Figure at 0x7f78ff307f98>"
      ]
     },
     "execution_count": 34,
     "metadata": {},
     "output_type": "execute_result"
    }
   ],
   "source": [
    "common_path = '../results/npgpepois/cartpole/seed_'\n",
    "seeds = [850, 730]\n",
    "\n",
    "dfs = []\n",
    "for s in seeds:\n",
    "    dfs.append(read_data(common_path + str(s) + '/'))\n",
    "plot_data(dfs, ['AvgRet'])"
   ]
  },
  {
   "cell_type": "code",
   "execution_count": 35,
   "metadata": {},
   "outputs": [
    {
     "name": "stdout",
     "output_type": "stream",
     "text": [
      "Number of runs: 2\n",
      "Number of iterations per run: 100\n"
     ]
    }
   ],
   "source": [
    "n_iter = min(len(df) for df in dfs)\n",
    "n_runs = len(dfs)\n",
    "print('Number of runs:', n_runs)\n",
    "print('Number of iterations per run:', n_iter)"
   ]
  },
  {
   "cell_type": "code",
   "execution_count": 36,
   "metadata": {},
   "outputs": [
    {
     "name": "stdout",
     "output_type": "stream",
     "text": [
      "Columns: ['AvgNormIw', 'eRenyi2', 'VarDiscRet', 'ESSClassic', 'J', 'MaxNormIw', 'AvgEpLen', 'AvgVanillaIw', 'VarVanillaIw', 'VarRet', 'VarNormIw', 'Bound', 'BatchSize', 'VarJ', 'AvgDiscRet', 'MinNormIw', 'ESSRenyi', 'MinVanillaIw', 'MaxVanillaIw', 'AvgRet', 'theta1', 'theta2', 'theta3', 'theta4', 'theta5', 'theta6', 'theta7', 'theta8', 'CumAvgRew']\n"
     ]
    }
   ],
   "source": [
    "print('Columns:', list(dfs[0]))"
   ]
  },
  {
   "cell_type": "code",
   "execution_count": 37,
   "metadata": {
    "collapsed": true
   },
   "outputs": [],
   "source": [
    "concat_df = pd.concat(dfs, axis=1)\n",
    "mean_df = pd.concat(dfs, axis=1).groupby(by=concat_df.columns, axis=1).mean()\n",
    "std_df = pd.concat(dfs, axis=1).groupby(by=concat_df.columns, axis=1).std()"
   ]
  },
  {
   "cell_type": "code",
   "execution_count": 38,
   "metadata": {},
   "outputs": [
    {
     "name": "stdout",
     "output_type": "stream",
     "text": [
      "Average performance with 95% confidence intervals:\n"
     ]
    },
    {
     "data": {
      "image/png": "[encoded data removed]",
      "text/plain": [
       "<matplotlib.figure.Figure at 0x7f78ff988668>"
      ]
     },
     "execution_count": 38,
     "metadata": {},
     "output_type": "execute_result"
    }
   ],
   "source": [
    "conf = 0.95\n",
    "print('Average performance with %i%% confidence intervals:' % (conf*100))\n",
    "mean = mean_df['AvgRet']\n",
    "std = std_df['AvgRet']\n",
    "plot_ci(mean, std, conf, n_runs)"
   ]
  },
  {
   "cell_type": "code",
   "execution_count": 39,
   "metadata": {},
   "outputs": [
    {
     "name": "stdout",
     "output_type": "stream",
     "text": [
      "Average cumulative reward: 1951.305131, c.i. (1610.8981405903946, 2291.712121891063)\n"
     ]
    }
   ],
   "source": [
    "cum_mean = mean_df['CumAvgRew'][len(mean_df)-1]\n",
    "cum_std = std_df['CumAvgRew'][len(mean_df)-1]\n",
    "interval = sts.t.interval(conf, n_runs-1,loc=cum_mean,scale=cum_std/np.sqrt(n_runs))\n",
    "print('Average cumulative reward: %f, c.i. %s' % (cum_mean, interval))"
   ]
  },
  {
   "cell_type": "code",
   "execution_count": 40,
   "metadata": {},
   "outputs": [
    {
     "data": {
      "image/png": "[encoded data removed]",
      "text/plain": [
       "<matplotlib.figure.Figure at 0x7f78feee30b8>"
      ]
     },
     "execution_count": 40,
     "metadata": {},
     "output_type": "execute_result"
    }
   ],
   "source": [
    "args = ['theta%i'%(i+1) for i in range(8)]\n",
    "plot_data(dfs[0], args)"
   ]
  },
  {
   "cell_type": "code",
   "execution_count": 49,
   "metadata": {},
   "outputs": [
    {
     "data": {
      "text/plain": [
       "0     295.82742\n",
       "1     488.09015\n",
       "2     844.29640\n",
       "3     829.53570\n",
       "4     823.45220\n",
       "5     823.85260\n",
       "6     802.01636\n",
       "7     817.88340\n",
       "8     813.77264\n",
       "9     806.89810\n",
       "10    844.81450\n",
       "11    861.78217\n",
       "12    854.41820\n",
       "13    852.64160\n",
       "14    859.07440\n",
       "15    850.93740\n",
       "16    856.80530\n",
       "17    857.88420\n",
       "18    857.08730\n",
       "19    859.45860\n",
       "20    852.35583\n",
       "21    858.58040\n",
       "22    848.90330\n",
       "23    856.42596\n",
       "24    850.95290\n",
       "25    850.26410\n",
       "26    858.30334\n",
       "27    858.84350\n",
       "28    855.78076\n",
       "29    850.62164\n",
       "        ...    \n",
       "70    852.17316\n",
       "71    853.50684\n",
       "72    853.36285\n",
       "73    855.43665\n",
       "74    855.47614\n",
       "75    856.97675\n",
       "76    857.75620\n",
       "77    857.91730\n",
       "78    852.52905\n",
       "79    855.79767\n",
       "80    849.60910\n",
       "81    860.02660\n",
       "82    847.03625\n",
       "83    858.57000\n",
       "84    856.40250\n",
       "85    856.41320\n",
       "86    857.95360\n",
       "87    855.59906\n",
       "88    856.21910\n",
       "89    854.52673\n",
       "90    857.91656\n",
       "91    859.26610\n",
       "92    857.54694\n",
       "93    857.13570\n",
       "94    857.72240\n",
       "95    851.57590\n",
       "96    847.00990\n",
       "97    853.19430\n",
       "98    850.21924\n",
       "99    859.94490\n",
       "Name: Bound, Length: 100, dtype: float64"
      ]
     },
     "execution_count": 49,
     "metadata": {},
     "output_type": "execute_result"
    }
   ],
   "source": [
    "plot_data(dfs[1], ['eRenyi2'])\n",
    "dfs[1]['Bound']\n",
    "#dfs[1]['theta5']"
   ]
  },
  {
   "cell_type": "code",
   "execution_count": null,
   "metadata": {
    "collapsed": true
   },
   "outputs": [],
   "source": []
  }
 ],
 "metadata": {
  "kernelspec": {
   "display_name": "Python 3",
   "language": "python",
   "name": "python3"
  },
  "language_info": {
   "codemirror_mode": {
    "name": "ipython",
    "version": 3
   },
   "file_extension": ".py",
   "mimetype": "text/x-python",
   "name": "python",
   "nbconvert_exporter": "python",
   "pygments_lexer": "ipython3",
   "version": "3.6.3"
  }
 },
 "nbformat": 4,
 "nbformat_minor": 2
}
