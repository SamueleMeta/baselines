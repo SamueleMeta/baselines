{
 "cells": [
  {
   "cell_type": "markdown",
   "metadata": {},
   "source": [
    "# Analysis of PGPE and NPGPE"
   ]
  },
  {
   "cell_type": "code",
   "execution_count": 1,
   "metadata": {
    "collapsed": true
   },
   "outputs": [],
   "source": [
    "import numpy as np\n",
    "import pandas as pd\n",
    "import matplotlib.pyplot as plt\n",
    "import scipy.stats as sts\n",
    "\n",
    "plt.close('all')\n",
    "\n",
    "delta = 0.2\n",
    "\n",
    "def read_data(path):\n",
    "    df = pd.read_csv(path + 'progress.csv')\n",
    "    iterations = len(df)\n",
    "    batch_size = df['BatchSize']\n",
    "    sigma_1 = []\n",
    "    sigma_2 = []\n",
    "    for i in range(iterations):\n",
    "        policy_params = np.load(path + 'weights_' + str(i) + '.npy')\n",
    "        #iws = np.load(path + 'iws_' + str(i) + '.npy')\n",
    "        sigma_1.append(np.exp(policy_params[-2]))\n",
    "        sigma_2.append(np.exp(policy_params[-1]))\n",
    "    df['Sigma1'] = sigma_1\n",
    "    df['Sigma2'] = sigma_2\n",
    "    df['CumAvgRew'] = np.cumsum(df['AvgRet'])/iterations\n",
    "    return df\n",
    "\n",
    "def plot_data(dfs, columns, bottom=-np.infty, top=np.infty, rng=None):\n",
    "    fig = plt.figure()\n",
    "    ax = fig.add_subplot(111)\n",
    "    if type(dfs) is not list:\n",
    "        dfs = [dfs]\n",
    "    n_subplots = len(dfs)\n",
    "    for i in range(n_subplots): \n",
    "        df = dfs[i]\n",
    "        if rng is not None:\n",
    "            df = df[rng]\n",
    "        ax.set_xlabel('Iteration')\n",
    "        x = range(len(df))\n",
    "        for col in columns:\n",
    "            y = np.clip(df[col], bottom, top)\n",
    "            ax.plot(x, y, label=col)\n",
    "        ax.legend()\n",
    "    return fig\n",
    "\n",
    "def plot_ci(mean, std, conf, n_runs):\n",
    "    fig = plt.figure()\n",
    "    ax = fig.add_subplot(111)\n",
    "    ax.plot(mean.index, mean)\n",
    "    interval = sts.t.interval(conf, n_runs-1,loc=mean,scale=std/np.sqrt(n_runs))\n",
    "    ax.fill_between(mean.index, interval[0], interval[1], alpha=0.3)\n",
    "    return fig"
   ]
  },
  {
   "cell_type": "code",
   "execution_count": null,
   "metadata": {
    "collapsed": true
   },
   "outputs": [],
   "source": []
  },
  {
   "cell_type": "markdown",
   "metadata": {},
   "source": [
    "# PGPE on Cartpole"
   ]
  },
  {
   "cell_type": "markdown",
   "metadata": {},
   "source": [
    "## Setting:\n",
    "* Policy: determinisitc linear w/o bias\n",
    "* Available random seeds: 107, 583, 850, 730, 808\n",
    "* Batch size: 100\n",
    "* Task variant: gym\n",
    "* Horizon: 200"
   ]
  },
  {
   "cell_type": "markdown",
   "metadata": {},
   "source": [
    "### Performance (undiscounted) on 5 different random seeds"
   ]
  },
  {
   "cell_type": "markdown",
   "metadata": {},
   "source": [
    "**Available data**"
   ]
  },
  {
   "cell_type": "code",
   "execution_count": 2,
   "metadata": {},
   "outputs": [
    {
     "data": {
      "image/png": "[encoded data removed]",
      "text/plain": [
       "<matplotlib.figure.Figure at 0x7ff6ac3e6da0>"
      ]
     },
     "execution_count": 2,
     "metadata": {},
     "output_type": "execute_result"
    }
   ],
   "source": [
    "common_path = '../results/pgpe/cartpole/seed_'\n",
    "seeds = [107, 583, 850, 730, 808]\n",
    "\n",
    "dfs = []\n",
    "for s in seeds:\n",
    "    dfs.append(read_data(common_path + str(s) + '/'))\n",
    "plot_data(dfs, ['AvgRet'])"
   ]
  },
  {
   "cell_type": "code",
   "execution_count": 3,
   "metadata": {},
   "outputs": [
    {
     "name": "stdout",
     "output_type": "stream",
     "text": [
      "Number of runs: 5\n",
      "Number of iterations per run: 100\n"
     ]
    }
   ],
   "source": [
    "n_iter = min(len(df) for df in dfs)\n",
    "n_runs = len(dfs)\n",
    "print('Number of runs:', n_runs)\n",
    "print('Number of iterations per run:', n_iter)"
   ]
  },
  {
   "cell_type": "code",
   "execution_count": 4,
   "metadata": {},
   "outputs": [
    {
     "name": "stdout",
     "output_type": "stream",
     "text": [
      "Columns: ['StepSize', 'J', 'Grad2Norm', 'GradInftyNorm', 'VarJ', 'AvgRet', 'BatchSize', 'AvgEpLen', 'Sigma1', 'Sigma2', 'CumAvgRew']\n"
     ]
    }
   ],
   "source": [
    "print('Columns:', list(dfs[0]))"
   ]
  },
  {
   "cell_type": "code",
   "execution_count": 5,
   "metadata": {
    "collapsed": true
   },
   "outputs": [],
   "source": [
    "concat_df = pd.concat(dfs, axis=1)\n",
    "mean_df = pd.concat(dfs, axis=1).groupby(by=concat_df.columns, axis=1).mean()\n",
    "std_df = pd.concat(dfs, axis=1).groupby(by=concat_df.columns, axis=1).std()"
   ]
  },
  {
   "cell_type": "code",
   "execution_count": 6,
   "metadata": {},
   "outputs": [
    {
     "name": "stdout",
     "output_type": "stream",
     "text": [
      "Average performance with 95% confidence intervals:\n"
     ]
    },
    {
     "data": {
      "image/png": "[encoded data removed]",
      "text/plain": [
       "<matplotlib.figure.Figure at 0x7ff6ac3e6b00>"
      ]
     },
     "execution_count": 6,
     "metadata": {},
     "output_type": "execute_result"
    }
   ],
   "source": [
    "conf = 0.95\n",
    "print('Average performance with %i%% confidence intervals:' % (conf*100))\n",
    "mean = mean_df['AvgRet']\n",
    "std = std_df['AvgRet']\n",
    "plot_ci(mean, std, conf, n_runs)"
   ]
  },
  {
   "cell_type": "code",
   "execution_count": 7,
   "metadata": {},
   "outputs": [
    {
     "name": "stdout",
     "output_type": "stream",
     "text": [
      "Average cumulative reward: 1859.337298, c.i. (1693.1591850497898, 2025.5154112677214)\n"
     ]
    }
   ],
   "source": [
    "cum_mean = mean_df['CumAvgRew'][len(mean_df)-1]\n",
    "cum_std = std_df['CumAvgRew'][len(mean_df)-1]\n",
    "interval = sts.t.interval(conf, n_runs-1,loc=cum_mean,scale=cum_std/np.sqrt(n_runs))\n",
    "print('Average cumulative reward: %f, c.i. %s' % (cum_mean, interval))"
   ]
  },
  {
   "cell_type": "code",
   "execution_count": null,
   "metadata": {
    "collapsed": true
   },
   "outputs": [],
   "source": []
  },
  {
   "cell_type": "markdown",
   "metadata": {},
   "source": [
    "# NPGPE on Cartpole"
   ]
  },
  {
   "cell_type": "markdown",
   "metadata": {},
   "source": [
    "## Setting:\n",
    "* Policy: determinisitc linear w/o bias\n",
    "* Available random seeds: 107, 583, 850, 730, 808\n",
    "* Batch size: 100\n",
    "* Task variant: gym\n",
    "* Horizon: 200"
   ]
  },
  {
   "cell_type": "markdown",
   "metadata": {},
   "source": [
    "### Performance (undiscounted) on 5 different random seeds"
   ]
  },
  {
   "cell_type": "markdown",
   "metadata": {},
   "source": [
    "**Available data**"
   ]
  },
  {
   "cell_type": "code",
   "execution_count": 8,
   "metadata": {},
   "outputs": [
    {
     "data": {
      "image/png": "[encoded data removed]",
      "text/plain": [
       "<matplotlib.figure.Figure at 0x7ff6ac4f6d30>"
      ]
     },
     "execution_count": 8,
     "metadata": {},
     "output_type": "execute_result"
    }
   ],
   "source": [
    "common_path = '../results/npgpe/nobias/cartpole/seed_'\n",
    "seeds = [107, 583, 850, 730, 808]\n",
    "\n",
    "dfs = []\n",
    "for s in seeds:\n",
    "    dfs.append(read_data(common_path + str(s) + '/'))\n",
    "plot_data(dfs, ['AvgRet'])"
   ]
  },
  {
   "cell_type": "code",
   "execution_count": 9,
   "metadata": {},
   "outputs": [
    {
     "name": "stdout",
     "output_type": "stream",
     "text": [
      "Number of runs: 5\n",
      "Number of iterations per run: 100\n"
     ]
    }
   ],
   "source": [
    "n_iter = min(len(df) for df in dfs)\n",
    "n_runs = len(dfs)\n",
    "print('Number of runs:', n_runs)\n",
    "print('Number of iterations per run:', n_iter)"
   ]
  },
  {
   "cell_type": "code",
   "execution_count": 10,
   "metadata": {},
   "outputs": [
    {
     "name": "stdout",
     "output_type": "stream",
     "text": [
      "Columns: ['AvgEpLen', 'StepSize', 'J', 'VarJ', 'NatGradInftyNorm', 'AvgRet', 'NatGrad2Norm', 'BatchSize', 'Sigma1', 'Sigma2', 'CumAvgRew']\n"
     ]
    }
   ],
   "source": [
    "print('Columns:', list(dfs[0]))"
   ]
  },
  {
   "cell_type": "code",
   "execution_count": 11,
   "metadata": {
    "collapsed": true
   },
   "outputs": [],
   "source": [
    "concat_df = pd.concat(dfs, axis=1)\n",
    "mean_df = pd.concat(dfs, axis=1).groupby(by=concat_df.columns, axis=1).mean()\n",
    "std_df = pd.concat(dfs, axis=1).groupby(by=concat_df.columns, axis=1).std()"
   ]
  },
  {
   "cell_type": "code",
   "execution_count": 12,
   "metadata": {},
   "outputs": [
    {
     "name": "stdout",
     "output_type": "stream",
     "text": [
      "Average performance with 95% confidence intervals:\n"
     ]
    },
    {
     "data": {
      "image/png": "[encoded data removed]",
      "text/plain": [
       "<matplotlib.figure.Figure at 0x7ff6ac3e6940>"
      ]
     },
     "execution_count": 12,
     "metadata": {},
     "output_type": "execute_result"
    }
   ],
   "source": [
    "conf = 0.95\n",
    "print('Average performance with %i%% confidence intervals:' % (conf*100))\n",
    "mean = mean_df['AvgRet']\n",
    "std = std_df['AvgRet']\n",
    "plot_ci(mean, std, conf, n_runs)"
   ]
  },
  {
   "cell_type": "code",
   "execution_count": 13,
   "metadata": {},
   "outputs": [
    {
     "name": "stdout",
     "output_type": "stream",
     "text": [
      "Average cumulative reward: 1956.415904, c.i. (1942.2517235234186, 1970.580084534829)\n"
     ]
    }
   ],
   "source": [
    "cum_mean = mean_df['CumAvgRew'][len(mean_df)-1]\n",
    "cum_std = std_df['CumAvgRew'][len(mean_df)-1]\n",
    "interval = sts.t.interval(conf, n_runs-1,loc=cum_mean,scale=cum_std/np.sqrt(n_runs))\n",
    "print('Average cumulative reward: %f, c.i. %s' % (cum_mean, interval))"
   ]
  },
  {
   "cell_type": "code",
   "execution_count": null,
   "metadata": {
    "collapsed": true
   },
   "outputs": [],
   "source": []
  }
 ],
 "metadata": {
  "kernelspec": {
   "display_name": "Python 3",
   "language": "python",
   "name": "python3"
  },
  "language_info": {
   "codemirror_mode": {
    "name": "ipython",
    "version": 3
   },
   "file_extension": ".py",
   "mimetype": "text/x-python",
   "name": "python",
   "nbconvert_exporter": "python",
   "pygments_lexer": "ipython3",
   "version": "3.5.2"
  }
 },
 "nbformat": 4,
 "nbformat_minor": 2
}
