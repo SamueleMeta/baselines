{
 "cells": [
  {
   "cell_type": "markdown",
   "metadata": {},
   "source": [
    "# Utils"
   ]
  },
  {
   "cell_type": "code",
   "execution_count": 18,
   "metadata": {},
   "outputs": [],
   "source": [
    "import numpy as np\n",
    "import pandas as pd\n",
    "import matplotlib.pyplot as plt\n",
    "import scipy.stats as sts\n",
    "\n",
    "\n",
    "def read_data(path, iters=None, default_batchsize=100, scale='Eps'):\n",
    "    df = pd.read_csv(path, encoding='utf-8')\n",
    "    if iters: df = df.loc[:iters, :]\n",
    "    if not 'BatchSize' in df: df['BatchSize'] = default_batchsize\n",
    "    if not 'AvgRet' in df: df['AvgRet'] = df['AverageReturn']\n",
    "    if not 'EpsThisIter' in df: df['EpsThisIter'] = df['BatchSize']\n",
    "    df['EpsSoFar'] = np.cumsum(df['EpsThisIter'])\n",
    "    if 'SamplesThisIter' in df: df['SamplesSoFar'] = np.cumsum(df['SamplesThisIter'])\n",
    "    df['CumAvgRet'] = np.cumsum(df['AvgRet']*df[scale+'ThisIter'])/np.sum(df[scale+'ThisIter'])\n",
    "    return df\n",
    "\n",
    "def moments(dfs):\n",
    "    concat_df = pd.concat(dfs, axis=1)\n",
    "    mean_df = pd.concat(dfs, axis=1).groupby(by=concat_df.columns, axis=1).mean()\n",
    "    std_df = pd.concat(dfs, axis=1).groupby(by=concat_df.columns, axis=1).std()\n",
    "    return mean_df, std_df\n",
    "\n",
    "def plot_all(dfs, key='AvgRet', ylim=None, scale='Samples'):\n",
    "    fig = plt.figure()\n",
    "    ax = fig.add_subplot(111)\n",
    "    for df in dfs:\n",
    "        value = df[key]\n",
    "        ax.plot(df[scale+'SoFar'], value)\n",
    "    return fig\n",
    "\n",
    "def plot_ci(dfs, conf=0.95, key='AvgRet', ylim=None, scale='Eps'):\n",
    "    n_runs = len(dfs)\n",
    "    mean_df, std_df = moments(dfs)\n",
    "    mean = mean_df[key]\n",
    "    std = std_df[key]\n",
    "    fig = plt.figure()\n",
    "    ax = fig.add_subplot(111)\n",
    "    ax.plot(mean_df[scale+'SoFar'], mean)\n",
    "    interval = sts.t.interval(conf, n_runs-1,loc=mean,scale=std/np.sqrt(n_runs))\n",
    "    ax.fill_between(mean_df[scale+'SoFar'], interval[0], interval[1], alpha=0.3)\n",
    "    if ylim: ax.set_ylim(ylim)\n",
    "    return fig\n",
    "\n",
    "def compare(candidates, conf=0.95, key='AvgRet', ylim=None, xlim=None, scale='Eps'):\n",
    "    fig = plt.figure()\n",
    "    ax = fig.add_subplot(111)\n",
    "    entries = []\n",
    "    for candidate_name in candidates:\n",
    "        entries.append(candidate_name)\n",
    "        dfs = candidates[candidate_name]\n",
    "        n_runs = len(dfs)\n",
    "        mean_df, std_df = moments(dfs)\n",
    "        mean = mean_df[key]\n",
    "        std = std_df[key]\n",
    "        ax.plot(mean_df[scale+'SoFar'], mean)\n",
    "        interval = sts.t.interval(conf, n_runs-1,loc=mean,scale=std/np.sqrt(n_runs))\n",
    "        ax.fill_between(mean_df[scale+'SoFar'], interval[0], interval[1], alpha=0.3)\n",
    "        print(candidate_name, end=': ')\n",
    "        print_ci(dfs, conf)\n",
    "    ax.legend(entries, loc='upper left')\n",
    "    if ylim: ax.set_ylim(ylim)\n",
    "    if xlim: ax.set_xlim(xlim)\n",
    "    return fig\n",
    "\n",
    "def plot_data(path, key='VanillaAvgRet'):\n",
    "    xlabel='Iteration'\n",
    "    df = pd.read_csv(path)\n",
    "    fig = plt.figure()\n",
    "    ax = fig.add_subplot(111)\n",
    "    fig.suptitle(key)\n",
    "    mean = df[key]\n",
    "    ax.plot(df[xlabel], mean)\n",
    "    return fig\n",
    "\n",
    "def print_ci(dfs, conf=0.95, key='CumAvgRet'):\n",
    "    n_runs = len(dfs)\n",
    "    mean_df, std_df = moments(dfs)\n",
    "    total_horizon = np.sum(mean_df['AvgEpLen'])\n",
    "    mean = mean_df[key][len(mean_df)-1]\n",
    "    std = std_df[key][len(mean_df)-1]\n",
    "    interval = sts.t.interval(conf, n_runs-1,loc=mean,scale=std/np.sqrt(n_runs))\n",
    "    print('%f \\u00B1 %f\\t[%f, %f]\\t total horizon: %d' % (mean, std, interval[0], interval[1], int(total_horizon)))\n",
    "\n",
    "def save_ci(dfs, conf=0.95, key='AvgRet', ylim=None, scale='Eps', horizon=500, filename='prova.csv'):\n",
    "    n_runs = len(dfs)\n",
    "    mean_df, std_df = moments(dfs)\n",
    "    mean = mean_df[key]\n",
    "    std = std_df[key]\n",
    "    interval = sts.t.interval(conf, n_runs-1,loc=mean,scale=std/np.sqrt(n_runs))\n",
    "    low = pd.Series(interval[0])\n",
    "    high = pd.Series(interval[1])\n",
    "    iteration = pd.Series(horizon*np.array(range(len(mean))))\n",
    "    df_out = pd.DataFrame(list(zip(iteration, mean, std, low, high)), columns=['iteration', 'mean', 'std', 'low', 'up'])\n",
    "    df_out.to_csv(filename, index=False)\n"
   ]
  },
  {
   "cell_type": "code",
   "execution_count": 19,
   "metadata": {},
   "outputs": [
    {
     "data": {
      "image/png": "[encoded data removed]",
      "text/plain": [
       "<Figure size 432x288 with 1 Axes>"
      ]
     },
     "execution_count": 19,
     "metadata": {},
     "output_type": "execute_result"
    },
    {
     "data": {
      "image/png": "[encoded data removed]",
      "text/plain": [
       "<Figure size 432x288 with 1 Axes>"
      ]
     },
     "metadata": {},
     "output_type": "display_data"
    }
   ],
   "source": [
    "path = \"./logs/double_sampling_and_back_LQG1D-V0_delta=0.2_seed=1_1543221639.2823846.csv\"\n",
    "plot_data(path, key='ReturnMean')"
   ]
  },
  {
   "cell_type": "code",
   "execution_count": null,
   "metadata": {},
   "outputs": [],
   "source": []
  }
 ],
 "metadata": {
  "kernelspec": {
   "display_name": "Python 3",
   "language": "python",
   "name": "python3"
  },
  "language_info": {
   "codemirror_mode": {
    "name": "ipython",
    "version": 3
   },
   "file_extension": ".py",
   "mimetype": "text/x-python",
   "name": "python",
   "nbconvert_exporter": "python",
   "pygments_lexer": "ipython3",
   "version": "3.5.2"
  }
 },
 "nbformat": 4,
 "nbformat_minor": 2
}
