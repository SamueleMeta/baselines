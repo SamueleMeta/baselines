{
 "cells": [
  {
   "cell_type": "markdown",
   "metadata": {},
   "source": [
    "# Utils"
   ]
  },
  {
   "cell_type": "code",
   "execution_count": 3,
   "metadata": {},
   "outputs": [],
   "source": [
    "import numpy as np\n",
    "import pandas as pd\n",
    "import matplotlib.pyplot as plt\n",
    "import scipy.stats as sts\n",
    "import glob\n",
    "\n",
    "\n",
    "def plot_data(path, key='VanillaAvgRet'):\n",
    "    xlabel='Iteration'\n",
    "    df = pd.read_csv(path)\n",
    "    fig = plt.figure()\n",
    "    ax = fig.add_subplot(111)\n",
    "    fig.suptitle(key)\n",
    "    mean = df[key]\n",
    "    ax.plot(df[xlabel], mean)\n",
    "    return fig\n"
   ]
  },
  {
   "cell_type": "code",
   "execution_count": 56,
   "metadata": {},
   "outputs": [],
   "source": [
    "path=\"./logs/LQG1D-V0_delta=0.2_seed=0_dtheta=0.0*\"\n",
    "horizon = 2\n",
    "# Getting a list of filenames and turning them into dfs\n",
    "filenames = glob.glob(path)[0:3]\n",
    "dfs_list = [pd.read_csv(filename) for filename in filenames]\n",
    "dfs_list = [df[:horizon] for df in dfs_list]\n",
    "\n",
    "# Adding the filename to each dataframe\n",
    "for df, filename in zip(dfs_list, filenames):\n",
    "  df['filename'] = filename\n",
    "\n",
    "# Combine the list of dataframes, on top of each other\n",
    "combo_df = pd.concat(dfs_list, axis=1)"
   ]
  },
  {
   "cell_type": "code",
   "execution_count": 57,
   "metadata": {
    "scrolled": false
   },
   "outputs": [],
   "source": [
    "mu1 = [df['LQGmu1'] for df in dfs_list]"
   ]
  },
  {
   "cell_type": "code",
   "execution_count": 58,
   "metadata": {},
   "outputs": [
    {
     "data": {
      "text/plain": [
       "2"
      ]
     },
     "execution_count": 58,
     "metadata": {},
     "output_type": "execute_result"
    }
   ],
   "source": [
    "len(dfs_list[0])"
   ]
  },
  {
   "cell_type": "code",
   "execution_count": 62,
   "metadata": {},
   "outputs": [
    {
     "data": {
      "text/html": [
       "<div>\n",
       "<style scoped>\n",
       "    .dataframe tbody tr th:only-of-type {\n",
       "        vertical-align: middle;\n",
       "    }\n",
       "\n",
       "    .dataframe tbody tr th {\n",
       "        vertical-align: top;\n",
       "    }\n",
       "\n",
       "    .dataframe thead th {\n",
       "        text-align: right;\n",
       "    }\n",
       "</style>\n",
       "<table border=\"1\" class=\"dataframe\">\n",
       "  <thead>\n",
       "    <tr style=\"text-align: right;\">\n",
       "      <th></th>\n",
       "      <th>LQGsigma</th>\n",
       "      <th>target_sum_log_mean</th>\n",
       "      <th>ReturnStepMax</th>\n",
       "      <th>DenMISELogLast</th>\n",
       "      <th>URet</th>\n",
       "      <th>TimestepsSoFar</th>\n",
       "      <th>LQGmu01</th>\n",
       "      <th>IWFirstEpisode</th>\n",
       "      <th>ReturnMean</th>\n",
       "      <th>ReturnLastEpisode</th>\n",
       "      <th>...</th>\n",
       "      <th>MISE</th>\n",
       "      <th>ReturnMax</th>\n",
       "      <th>IWMean</th>\n",
       "      <th>ReturnAbsMax</th>\n",
       "      <th>IWLastEpisode</th>\n",
       "      <th>IWMax</th>\n",
       "      <th>IWMin</th>\n",
       "      <th>LQGmu1</th>\n",
       "      <th>DenMISEMeanLog</th>\n",
       "      <th>filename</th>\n",
       "    </tr>\n",
       "  </thead>\n",
       "  <tbody>\n",
       "    <tr>\n",
       "      <th>0</th>\n",
       "      <td>[[1.]]</td>\n",
       "      <td>-31.300238</td>\n",
       "      <td>0.994946</td>\n",
       "      <td>-9.210340</td>\n",
       "      <td>15.593419</td>\n",
       "      <td>20</td>\n",
       "      <td>[[0.001]]</td>\n",
       "      <td>2.549644e-10</td>\n",
       "      <td>14.212496</td>\n",
       "      <td>14.212496</td>\n",
       "      <td>...</td>\n",
       "      <td>3.623681e-09</td>\n",
       "      <td>14.212496</td>\n",
       "      <td>2.549644e-10</td>\n",
       "      <td>14.212496</td>\n",
       "      <td>2.549644e-10</td>\n",
       "      <td>2.549644e-10</td>\n",
       "      <td>NaN</td>\n",
       "      <td>[[0.01]]</td>\n",
       "      <td>-9.210340</td>\n",
       "      <td>./logs/LQG1D-V0_delta=0.2_seed=0_dtheta=0.0001...</td>\n",
       "    </tr>\n",
       "    <tr>\n",
       "      <th>1</th>\n",
       "      <td>[[1.]]</td>\n",
       "      <td>-30.333458</td>\n",
       "      <td>0.994946</td>\n",
       "      <td>-9.903487</td>\n",
       "      <td>10.023864</td>\n",
       "      <td>40</td>\n",
       "      <td>[[0.001]]</td>\n",
       "      <td>5.099281e-10</td>\n",
       "      <td>11.660795</td>\n",
       "      <td>9.109096</td>\n",
       "      <td>...</td>\n",
       "      <td>1.968156e-08</td>\n",
       "      <td>14.212496</td>\n",
       "      <td>2.017805e-09</td>\n",
       "      <td>14.212496</td>\n",
       "      <td>3.525682e-09</td>\n",
       "      <td>3.525682e-09</td>\n",
       "      <td>NaN</td>\n",
       "      <td>[[0.01]]</td>\n",
       "      <td>-9.903487</td>\n",
       "      <td>./logs/LQG1D-V0_delta=0.2_seed=0_dtheta=0.0001...</td>\n",
       "    </tr>\n",
       "  </tbody>\n",
       "</table>\n",
       "<p>2 rows × 25 columns</p>\n",
       "</div>"
      ],
      "text/plain": [
       "  LQGsigma  target_sum_log_mean  ReturnStepMax  DenMISELogLast       URet  \\\n",
       "0   [[1.]]           -31.300238       0.994946       -9.210340  15.593419   \n",
       "1   [[1.]]           -30.333458       0.994946       -9.903487  10.023864   \n",
       "\n",
       "   TimestepsSoFar    LQGmu01  IWFirstEpisode  ReturnMean  ReturnLastEpisode  \\\n",
       "0              20  [[0.001]]    2.549644e-10   14.212496          14.212496   \n",
       "1              40  [[0.001]]    5.099281e-10   11.660795           9.109096   \n",
       "\n",
       "                         ...                                  MISE  ReturnMax  \\\n",
       "0                        ...                          3.623681e-09  14.212496   \n",
       "1                        ...                          1.968156e-08  14.212496   \n",
       "\n",
       "         IWMean  ReturnAbsMax  IWLastEpisode         IWMax  IWMin    LQGmu1  \\\n",
       "0  2.549644e-10     14.212496   2.549644e-10  2.549644e-10    NaN  [[0.01]]   \n",
       "1  2.017805e-09     14.212496   3.525682e-09  3.525682e-09    NaN  [[0.01]]   \n",
       "\n",
       "   DenMISEMeanLog                                           filename  \n",
       "0       -9.210340  ./logs/LQG1D-V0_delta=0.2_seed=0_dtheta=0.0001...  \n",
       "1       -9.903487  ./logs/LQG1D-V0_delta=0.2_seed=0_dtheta=0.0001...  \n",
       "\n",
       "[2 rows x 25 columns]"
      ]
     },
     "execution_count": 62,
     "metadata": {},
     "output_type": "execute_result"
    }
   ],
   "source": [
    "dfs_list[0]"
   ]
  },
  {
   "cell_type": "code",
   "execution_count": null,
   "metadata": {},
   "outputs": [],
   "source": []
  }
 ],
 "metadata": {
  "kernelspec": {
   "display_name": "Python 3",
   "language": "python",
   "name": "python3"
  },
  "language_info": {
   "codemirror_mode": {
    "name": "ipython",
    "version": 3
   },
   "file_extension": ".py",
   "mimetype": "text/x-python",
   "name": "python",
   "nbconvert_exporter": "python",
   "pygments_lexer": "ipython3",
   "version": "3.5.2"
  }
 },
 "nbformat": 4,
 "nbformat_minor": 2
}
